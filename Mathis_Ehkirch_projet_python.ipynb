{
  "cells": [
    {
      "cell_type": "code",
      "execution_count": 1,
      "metadata": {
        "id": "xmVe72kA684e"
      },
      "outputs": [],
      "source": [
        "import pandas as pd\n",
        "import numpy as np\n",
        "import matplotlib.pyplot as plt\n",
        "\n",
        "\n",
        "data1 = pd.read_csv(\"TEST.CSV\",delimiter=\";\")\n",
        "data2 = pd.read_csv(\"TRAIN.CSV\",delimiter=\";\")"
      ]
    },
    {
      "cell_type": "code",
      "execution_count": 43,
      "metadata": {
        "colab": {
          "base_uri": "https://localhost:8080/"
        },
        "id": "gc1EBhAD7s89",
        "outputId": "4ece0ce9-8cd0-4353-e8a2-81713862f11f"
      },
      "outputs": [
        {
          "output_type": "stream",
          "name": "stdout",
          "text": [
            "<class 'pandas.core.frame.DataFrame'>\n",
            "RangeIndex: 339 entries, 0 to 338\n",
            "Data columns (total 1 columns):\n",
            " #   Column                                                                                                                                                                                                                                                                                                                                                                                                                                                                                                                                                                                                                                                                                                                                                                                                                                                                                                                                                                                                                                                                                                                                                                                                                                                                                                                                                                                                                                                                                                                                                                                                                                                                                                                                                                                                                                                                                                                                                                                                                                                                                                                                                                                                                                                                                                                                                                                                                                                                                                                                                                                                                                                                                                                                                                                                                                                                                                                                                                                                                                                                                                                                                                                                                                                                                                                                                                                                                                                                                                                                                                                                                                                                                                                                                                                                                                                                                                                                                                                                                                                                                                                                                                                                                                                                                                                                                                                                                                                                                                                                                                                                                                                                                                                                                                                                                                                                                                                                                                                                                                                                                                                                                                                                                                                                                                                                                                                                                                                                                                                                                                                                                                                                                                                                                                                                                                                                                                                                                                                                                                                                                                                                                                                                                                                                                                                                                                                                                                                                                                                                                                                                                                                                                                                                                                                                                                                                                                                                                                                                                                                                                                                                                                                                                                                                                                                                                                                                                                                                                                                                                                                                                                                                                                                                                                                                                                                                                                                                                                                                                                                                                                                                                                                                                                                                                                                                                                                                                                                                                                                                                                                                                                                                                                                                                                                                                                                                                                                                                                                                                                                                                                                                                                                                                                                                                                                                                                                                                                                                                                                                                                                                                                                                                                                                                                                                                                                                                                                                                                                                                                                                                                                                                                                                                                                                                                                                                                                                                                                                                                                                                                                                                                                                                                                                                                                                                                                                                                                                                                                                                                                                                                                                                                                                                                                                                                                                                                                                                                                                                                                                                                                                                                                                                                                                                                                                                                                                                                                                                                                                                                                                                                                                                                                                                                                                                                                                                                                                                                                                                                                                                                                                                                                                                                                                                                                                                                                                                                                                                                                                                                                                                                                                                                                                                                                                                                                                                                                                                                                                                                                                                                                                                                                                                                                                                                                                                                                                                                                                                                                                                                                                                                                                                                                                                                                                                                                                                                                                                                                                                                                                                                                                                                                                                                                                                                                                                                                                                                                                                                                                                                                                                                                                                                                                                                                                                                                                                                                                                                                                                                                                                                                                                                                                                                                                                                                                                                                                                                                                                                                                                                                                                                                                                                                                                                                                                                                                                                                                                                                                                                                                                                                                                                                                                                                                                                                                                                                                                                                                                                                                                                                                                                                                                                                                                                                                                                                                                                                                                                                                                                                                                                                                                                                                                                                                                                                                                                                                                                                                                                                                                                                                                                                                                                                                                                                                                                                                                                                                                                                                                                                                                                                                                                                                                                                                                                                                                                                                                                                                                                                                                                                                                                                                                                                                                                                                                                                                                                                                                                                                                                                                                                                                                                                                                                                                                                                                                                                                                                                                                                                                                                                                                                                                                                                                                                                                                                                                                                                                                                                                                                                                                                                                                                                                                                                                                                                                                                                                                                                                                                                                                                                                                                                                                                                                                                                                                                                                                                                                                                                                                                                                                                                                                                                                                                                                                                                                                                                                                                                                                                                                                                                                                                                                                                                                                                                                                                                                                                                                                                                                                                                                                                                                                                                                                                                                                                                                                                                                                                                                                                                                                                                                                                                                                                                                                                                                                                                                                                                                                                                                                                                                                                                                                                                                                                                                                                                                                                                                                                                                                                                                                                                                                                                                                                                                                                                                                                                                                                                                                                                                                                                                                                                                                                                                                                                                                                                                                                                                                                                                                                                                                                                                                                                                                                                                                                                                                                Non-Null Count  Dtype \n",
            "---  ------                                                                                                                                                                                                                                                                                                                                                                                                                                                                                                                                                                                                                                                                                                                                                                                                                                                                                                                                                                                                                                                                                                                                                                                                                                                                                                                                                                                                                                                                                                                                                                                                                                                                                                                                                                                                                                                                                                                                                                                                                                                                                                                                                                                                                                                                                                                                                                                                                                                                                                                                                                                                                                                                                                                                                                                                                                                                                                                                                                                                                                                                                                                                                                                                                                                                                                                                                                                                                                                                                                                                                                                                                                                                                                                                                                                                                                                                                                                                                                                                                                                                                                                                                                                                                                                                                                                                                                                                                                                                                                                                                                                                                                                                                                                                                                                                                                                                                                                                                                                                                                                                                                                                                                                                                                                                                                                                                                                                                                                                                                                                                                                                                                                                                                                                                                                                                                                                                                                                                                                                                                                                                                                                                                                                                                                                                                                                                                                                                                                                                                                                                                                                                                                                                                                                                                                                                                                                                                                                                                                                                                                                                                                                                                                                                                                                                                                                                                                                                                                                                                                                                                                                                                                                                                                                                                                                                                                                                                                                                                                                                                                                                                                                                                                                                                                                                                                                                                                                                                                                                                                                                                                                                                                                                                                                                                                                                                                                                                                                                                                                                                                                                                                                                                                                                                                                                                                                                                                                                                                                                                                                                                                                                                                                                                                                                                                                                                                                                                                                                                                                                                                                                                                                                                                                                                                                                                                                                                                                                                                                                                                                                                                                                                                                                                                                                                                                                                                                                                                                                                                                                                                                                                                                                                                                                                                                                                                                                                                                                                                                                                                                                                                                                                                                                                                                                                                                                                                                                                                                                                                                                                                                                                                                                                                                                                                                                                                                                                                                                                                                                                                                                                                                                                                                                                                                                                                                                                                                                                                                                                                                                                                                                                                                                                                                                                                                                                                                                                                                                                                                                                                                                                                                                                                                                                                                                                                                                                                                                                                                                                                                                                                                                                                                                                                                                                                                                                                                                                                                                                                                                                                                                                                                                                                                                                                                                                                                                                                                                                                                                                                                                                                                                                                                                                                                                                                                                                                                                                                                                                                                                                                                                                                                                                                                                                                                                                                                                                                                                                                                                                                                                                                                                                                                                                                                                                                                                                                                                                                                                                                                                                                                                                                                                                                                                                                                                                                                                                                                                                                                                                                                                                                                                                                                                                                                                                                                                                                                                                                                                                                                                                                                                                                                                                                                                                                                                                                                                                                                                                                                                                                                                                                                                                                                                                                                                                                                                                                                                                                                                                                                                                                                                                                                                                                                                                                                                                                                                                                                                                                                                                                                                                                                                                                                                                                                                                                                                                                                                                                                                                                                                                                                                                                                                                                                                                                                                                                                                                                                                                                                                                                                                                                                                                                                                                                                                                                                                                                                                                                                                                                                                                                                                                                                                                                                                                                                                                                                                                                                                                                                                                                                                                                                                                                                                                                                                                                                                                                                                                                                                                                                                                                                                                                                                                                                                                                                                                                                                                                                                                                                                                                                                                                                                                                                                                                                                                                                                                                                                                                                                                                                                                                                                                                                                                                                                                                                                                                                                                                                                                                                                                                                                                                                                                                                                                                                                                                                                                                                                                                                                                                                                                                                                                                                                                                                                                                                                                                                                                                                                                                                                                                                                                                                                                                                                                                                                                                                                                                                                                                                                                                                                                                                                                                                                                                                                                                                                                                                                                                                                                                                                                                                                                                                                                                                                                                                                                                                                                --------------  ----- \n",
            " 0   Zerg,s,s,s,hotkey10,s,hotkey60,s,hotkey00,s,hotkey90,t5,hotkey02,s,hotkey02,hotkey62,hotkey02,s,hotkey02,hotkey62,hotkey02,hotkey62,s,hotkey02,hotkey62,s,hotkey62,hotkey02,hotkey62,hotkey02,hotkey62,s,hotkey02,hotkey62,s,hotkey02,hotkey62,hotkey02,hotkey62,hotkey02,hotkey62,s,hotkey62,t10,hotkey02,hotkey62,hotkey02,hotkey62,s,hotkey62,s,s,hotkey62,hotkey02,hotkey62,hotkey02,hotkey62,hotkey02,hotkey62,hotkey02,hotkey62,hotkey02,s,hotkey62,s,s,t15,hotkey02,hotkey62,hotkey02,hotkey62,s,s,hotkey02,hotkey62,s,s,hotkey02,hotkey62,hotkey02,hotkey62,hotkey02,hotkey62,s,t20,hotkey62,hotkey02,hotkey62,hotkey02,hotkey62,s,hotkey00,s,s,hotkey62,hotkey02,hotkey62,hotkey02,hotkey62,hotkey02,hotkey62,hotkey02,hotkey62,hotkey02,hotkey62,hotkey02,hotkey62,hotkey02,hotkey62,t25,hotkey02,hotkey62,hotkey02,hotkey62,hotkey02,hotkey62,hotkey02,s,hotkey02,hotkey62,hotkey02,hotkey62,hotkey02,hotkey62,hotkey02,hotkey62,s,s,hotkey02,hotkey62,hotkey02,s,hotkey02,hotkey62,s,hotkey62,hotkey02,hotkey62,hotkey02,t30,s,hotkey02,hotkey62,hotkey02,hotkey62,s,hotkey62,hotkey02,s,hotkey02,hotkey62,s,hotkey62,hotkey02,hotkey62,hotkey02,hotkey62,s,hotkey02,hotkey62,hotkey02,s,hotkey02,hotkey62,s,hotkey02,hotkey62,hotkey02,hotkey62,s,t35,hotkey62,s,hotkey02,hotkey62,hotkey02,hotkey62,hotkey02,hotkey62,hotkey02,hotkey62,s,hotkey02,hotkey62,t40,hotkey02,hotkey62,s,hotkey12,hotkey02,hotkey62,hotkey12,hotkey62,hotkey02,hotkey62,hotkey02,hotkey62,hotkey02,hotkey62,s,hotkey02,hotkey62,s,t45,hotkey62,s,s,s,hotkey20,s,hotkey02,hotkey62,hotkey02,hotkey62,t50,s,hotkey00,s,hotkey22,hotkey62,hotkey22,hotkey62,hotkey22,hotkey62,hotkey22,s,hotkey62,s,hotkey00,s,t55,s,s,hotkey02,hotkey62,hotkey02,hotkey62,s,hotkey00,s,hotkey02,hotkey62,hotkey02,hotkey62,hotkey02,hotkey62,hotkey02,hotkey62,hotkey02,hotkey62,hotkey02,hotkey62,hotkey02,hotkey62,t60,hotkey02,hotkey62,hotkey02,hotkey62,hotkey02,hotkey62,t65,t70,s,hotkey02,hotkey62,hotkey02,hotkey62,s,s,s,hotkey62,t75,hotkey12,hotkey02,hotkey62,hotkey12,hotkey22,hotkey02,hotkey62,hotkey22,hotkey62,hotkey02,hotkey62,hotkey02,hotkey62,s,s,hotkey02,hotkey62,hotkey02,hotkey62,hotkey02,hotkey62,hotkey02,hotkey62,t80,s,hotkey00,s,hotkey02,hotkey62,hotkey02,hotkey62,hotkey02,hotkey62,hotkey02,hotkey62,s,hotkey00,s,hotkey02,hotkey62,hotkey02,hotkey62,t85,hotkey02,hotkey62,hotkey02,hotkey62,hotkey02,hotkey62,hotkey02,hotkey62,hotkey02,hotkey62,hotkey02,hotkey62,hotkey12,hotkey62,hotkey12,hotkey02,hotkey62,hotkey12,t90,hotkey02,hotkey62,hotkey02,hotkey62,hotkey02,hotkey62,hotkey02,hotkey62,hotkey02,hotkey62,hotkey02,hotkey62,s,s,hotkey02,hotkey62,hotkey02,hotkey62,hotkey02,hotkey62,t95,hotkey02,hotkey62,hotkey02,hotkey62,hotkey12,hotkey02,hotkey62,hotkey12,hotkey02,hotkey62,hotkey02,hotkey62,hotkey02,hotkey62,hotkey02,hotkey62,hotkey02,hotkey62,hotkey12,hotkey02,hotkey62,hotkey12,hotkey62,hotkey12,t100,hotkey22,hotkey62,hotkey02,hotkey62,hotkey02,hotkey62,hotkey02,hotkey62,hotkey02,hotkey62,hotkey12,hotkey62,hotkey22,t105,hotkey62,hotkey02,hotkey62,hotkey02,hotkey62,hotkey02,hotkey62,hotkey02,hotkey62,hotkey02,hotkey62,s,hotkey00,hotkey62,s,hotkey62,s,hotkey02,hotkey62,s,s,hotkey02,hotkey62,hotkey02,hotkey62,SingleMineral,s,hotkey02,SingleMineral,s,hotkey02,hotkey62,hotkey02,hotkey62,t110,s,hotkey62,hotkey02,hotkey62,hotkey02,hotkey62,hotkey02,hotkey62,s,hotkey62,hotkey02,hotkey62,hotkey02,hotkey62,s,hotkey02,hotkey62,hotkey02,hotkey62,hotkey02,s,hotkey02,hotkey62,s,hotkey62,hotkey02,hotkey62,hotkey02,hotkey62,s,t115,hotkey12,hotkey02,hotkey62,hotkey12,hotkey22,hotkey02,hotkey62,hotkey22,t120,hotkey12,hotkey02,hotkey62,hotkey02,hotkey62,hotkey02,hotkey62,hotkey02,hotkey62,hotkey02,hotkey62,s,t125,hotkey62,hotkey02,hotkey62,Base,s,Base,s,hotkey60,s,hotkey62,hotkey02,t130,hotkey62,s,hotkey00,hotkey62,hotkey02,hotkey62,hotkey02,hotkey62,hotkey02,hotkey62,hotkey02,hotkey62,hotkey12,t135,hotkey02,s,hotkey02,hotkey62,hotkey02,hotkey62,s,hotkey02,hotkey62,s,hotkey02,hotkey62,hotkey02,hotkey62,hotkey02,hotkey62,hotkey12,hotkey02,hotkey62,hotkey12,t140,hotkey02,s,hotkey02,hotkey62,hotkey02,hotkey62,hotkey02,hotkey62,hotkey02,hotkey62,hotkey22,hotkey62,hotkey02,hotkey62,hotkey02,t145,hotkey62,s,hotkey00,s,s,hotkey62,hotkey02,t150,hotkey12,hotkey22,hotkey02,hotkey62,hotkey02,hotkey62,s,s,s,hotkey62,hotkey02,hotkey62,hotkey02,hotkey62,t155,hotkey02,hotkey62,hotkey02,hotkey62,hotkey12,hotkey02,hotkey62,hotkey12,hotkey02,hotkey62,hotkey12,hotkey02,hotkey62,s,hotkey62,hotkey02,hotkey62,s,s,hotkey02,hotkey62,hotkey02,hotkey62,t160,hotkey02,hotkey62,s,hotkey02,hotkey62,s,hotkey02,hotkey62,hotkey02,hotkey62,hotkey02,hotkey62,hotkey02,hotkey62,hotkey02,hotkey62,hotkey02,hotkey62,hotkey02,hotkey62,hotkey12,hotkey62,s,s,hotkey12,hotkey02,hotkey62,s,hotkey02,hotkey62,hotkey02,hotkey62,t165,hotkey02,hotkey62,hotkey02,hotkey62,hotkey12,hotkey62,hotkey02,hotkey62,hotkey02,hotkey62,hotkey12,hotkey02,hotkey62,hotkey12,hotkey02,s,hotkey02,hotkey62,hotkey02,hotkey62,hotkey12,hotkey02,hotkey62,hotkey12,hotkey62,t170,hotkey02,hotkey62,hotkey02,hotkey62,hotkey02,hotkey62,hotkey12,hotkey02,hotkey62,hotkey12,hotkey62,hotkey02,hotkey62,hotkey02,hotkey62,s,s,hotkey02,hotkey62,hotkey02,t175,hotkey62,hotkey02,hotkey62,hotkey02,hotkey62,hotkey02,hotkey62,hotkey02,hotkey62,hotkey12,hotkey02,hotkey62,hotkey12,hotkey62,hotkey02,hotkey62,hotkey02,hotkey62,hotkey02,hotkey62,hotkey02,hotkey62,hotkey12,hotkey02,hotkey62,t180,hotkey12,hotkey62,hotkey02,hotkey62,hotkey02,hotkey62,hotkey02,hotkey62,hotkey02,hotkey62,hotkey02,hotkey62,hotkey02,hotkey62,hotkey02,s,hotkey02,hotkey62,hotkey02,hotkey62,hotkey02,hotkey62,t185,hotkey02,hotkey62,hotkey02,hotkey62,hotkey12,hotkey02,hotkey62,hotkey12,hotkey22,hotkey12,hotkey62,s,s,t190,hotkey12,hotkey02,hotkey62,hotkey12,hotkey02,hotkey62,s,hotkey62,hotkey02,hotkey62,hotkey02,hotkey62,hotkey12,hotkey02,hotkey62,hotkey12,hotkey02,hotkey62,s,hotkey02,hotkey62,hotkey02,hotkey62,hotkey02,hotkey62,t195,hotkey02,hotkey62,hotkey02,hotkey62,hotkey02,hotkey62,hotkey02,hotkey62,hotkey02,hotkey62,hotkey12,hotkey02,hotkey12,Base,s,Base,s,hotkey12,t200,hotkey22,hotkey12,hotkey22,hotkey62,hotkey02,hotkey62,hotkey02,hotkey62,hotkey02,hotkey62,t205,hotkey02,hotkey62,hotkey02,hotkey62,s,hotkey62,hotkey02,hotkey62,s,hotkey62,hotkey02,hotkey62,hotkey02,hotkey62,s,s,s,hotkey02,hotkey62,hotkey02,hotkey62,hotkey02,hotkey62,hotkey02,hotkey62,s,t210,s,s,s,s,hotkey02,hotkey62,hotkey02,hotkey62,t215,s,hotkey62,s,s,hotkey10,hotkey62,hotkey02,hotkey12,hotkey62,hotkey12,hotkey62,hotkey12,hotkey62,hotkey02,hotkey62,hotkey02,hotkey62,hotkey02,hotkey62,hotkey02,hotkey62,t220,s,hotkey62,hotkey02,hotkey12,hotkey62,hotkey12,hotkey62,hotkey12,hotkey62,hotkey02,hotkey12,hotkey62,hotkey12,hotkey62,hotkey12,hotkey62,hotkey02,hotkey62,s,hotkey62,hotkey02,hotkey62,hotkey02,hotkey62,t225,hotkey02,hotkey62,hotkey02,hotkey62,hotkey02,hotkey62,hotkey02,Base,s,hotkey02,hotkey62,hotkey02,hotkey62,hotkey02,hotkey62,s,s,s,hotkey02,hotkey62,hotkey02,hotkey62,s,hotkey62,t230,hotkey02,hotkey62,hotkey12,hotkey62,hotkey12,hotkey62,hotkey12,hotkey62,hotkey12,hotkey62,hotkey12,hotkey02,hotkey62,hotkey12,hotkey62,hotkey02,hotkey62,hotkey02,hotkey62,hotkey02,hotkey62,hotkey02,hotkey62,s,hotkey02,hotkey62,hotkey02,hotkey62,hotkey02,hotkey62,hotkey02,hotkey62,s,hotkey02,hotkey62,hotkey02,hotkey62,t235,hotkey02,hotkey62,hotkey02,hotkey62,hotkey02,hotkey62,hotkey02,hotkey62,hotkey02,hotkey62,hotkey02,hotkey62,hotkey02,hotkey62,s,s,s,t240,hotkey62,hotkey02,hotkey62,hotkey02,hotkey62,hotkey02,hotkey62,s,hotkey02,hotkey62,hotkey02,hotkey62,hotkey02,hotkey62,s,t245,s,hotkey02,hotkey62,hotkey02,hotkey62,s,s,hotkey02,hotkey62,hotkey02,hotkey62,hotkey02,hotkey62,hotkey02,hotkey62,hotkey12,hotkey02,hotkey62,hotkey12,hotkey62,s,s,hotkey02,hotkey62,hotkey02,hotkey62,s,t250,hotkey02,hotkey62,s,hotkey02,hotkey62,hotkey02,hotkey62,hotkey12,hotkey62,hotkey02,hotkey62,hotkey02,hotkey62,hotkey02,hotkey62,hotkey02,hotkey62,s,hotkey62,t255,hotkey02,hotkey62,hotkey02,hotkey62,hotkey02,hotkey62,hotkey02,hotkey62,hotkey02,hotkey62,hotkey02,hotkey62,hotkey02,hotkey62,hotkey02,s,hotkey12,hotkey02,hotkey62,hotkey12,s,t260,s,s,hotkey02,hotkey62,t265,s,s,hotkey90,s,hotkey92,hotkey12,hotkey02,hotkey62,hotkey12,hotkey62,hotkey02,hotkey62,hotkey02,hotkey62,hotkey02,hotkey62,s,hotkey02,hotkey62,s,hotkey02,hotkey62,t270,hotkey02,hotkey62,s,s,s,hotkey02,hotkey62,s,hotkey30,s,hotkey30,hotkey92,s,hotkey12,hotkey02,hotkey62,hotkey12,t275,hotkey02,hotkey62,hotkey02,hotkey62,hotkey02,hotkey62,hotkey32,hotkey62,hotkey02,hotkey62,hotkey02,hotkey62,hotkey02,hotkey62,hotkey02,hotkey62,hotkey02,hotkey62,s,s,s,hotkey92,s,hotkey90,Base,s,hotkey12,t280,hotkey62,hotkey20,hotkey30,hotkey12,hotkey02,hotkey62,hotkey02,hotkey62,s,hotkey92,s,s,hotkey12,t285,hotkey02,hotkey62,hotkey12,Base,s,hotkey62,hotkey02,hotkey62,hotkey02,hotkey62,hotkey02,hotkey62,s,hotkey12,hotkey02,hotkey62,hotkey12,Base,s,hotkey12,t290,hotkey02,hotkey62,hotkey12,hotkey02,hotkey62,hotkey12,hotkey62,hotkey02,hotkey62,hotkey12,hotkey02,hotkey62,hotkey12,hotkey02,hotkey12,hotkey02,hotkey62,hotkey12,t295,hotkey02,hotkey62,hotkey12,s,hotkey10,hotkey02,hotkey62,hotkey12,hotkey02,hotkey62,hotkey12,hotkey62,s,hotkey12,hotkey02,hotkey62,t300,hotkey12,s,hotkey12,hotkey62,s,hotkey12,hotkey02,hotkey62,hotkey12,hotkey02,hotkey62,hotkey02,hotkey62,hotkey02,hotkey62,s,s,t305,s,hotkey62,hotkey02,hotkey62,hotkey02,hotkey62,s,s,hotkey92,s,t310,s,s,hotkey02,hotkey62,hotkey02,hotkey62,s,s,s,t315,hotkey92,s,hotkey90,s,hotkey02,hotkey62,hotkey02,hotkey62,hotkey02,hotkey62,hotkey02,hotkey62,s,s,hotkey02,hotkey62,t320,hotkey02,hotkey62,hotkey92,Base,s,s,Base,s,hotkey02,hotkey62,hotkey02,hotkey62,hotkey02,hotkey62,hotkey02,hotkey62,hotkey02,hotkey62,hotkey02,hotkey62,hotkey92,s,hotkey02,hotkey62,hotkey02,hotkey62,s,hotkey92,hotkey62,hotkey02,hotkey62,hotkey02,hotkey62,s,t325,s,s,hotkey02,hotkey62,hotkey02,hotkey62,s,SingleMineral,s,hotkey62,s,hotkey02,hotkey62,hotkey92,s,hotkey70,hotkey62,s,s,hotkey62,t330,hotkey02,hotkey62,hotkey02,hotkey62,s,hotkey02,hotkey62,hotkey02,hotkey62,hotkey02,hotkey62,hotkey02,hotkey62,hotkey02,hotkey62,s,s,hotkey02,hotkey62,hotkey02,hotkey62,t335,hotkey02,s,hotkey02,hotkey92,t340,s,hotkey90,s,s,hotkey70,hotkey02,s,hotkey02,hotkey62,s,hotkey62,s,s,hotkey62,hotkey02,hotkey62,hotkey02,hotkey62,s,hotkey02,hotkey62,t345,hotkey02,hotkey62,s,s,hotkey72,s,hotkey92,hotkey72,hotkey62,hotkey02,hotkey62,hotkey02,hotkey62,hotkey02,hotkey62,s,hotkey62,t350,s,s,hotkey02,hotkey62,hotkey02,hotkey62,s,s,hotkey62,hotkey02,hotkey62,hotkey02,hotkey62,hotkey02,hotkey62,hotkey02,hotkey62,t355,hotkey02,hotkey72,s,s,hotkey72,s,hotkey72,hotkey62,s,s,t360,s,hotkey62,hotkey72,s,hotkey72,t365,s,hotkey02,s,s,s,hotkey00,s,s,t370,hotkey72,s,s,hotkey02,s,hotkey00,hotkey62,hotkey02,hotkey62,s,s,hotkey02,t375,hotkey62,hotkey02,hotkey62,s,s,hotkey62,hotkey02,hotkey62,hotkey02,Base,s,s,s,s,hotkey62,hotkey02,hotkey62,hotkey02,hotkey62,hotkey02,t380,hotkey62,s,s,s,s,s,hotkey10,hotkey62,hotkey12,hotkey62,hotkey12,hotkey62,hotkey02,hotkey62,hotkey92,hotkey72,s,t385,hotkey62,s,s,s,s,hotkey11,hotkey62,hotkey12,hotkey62,hotkey12,hotkey62,hotkey12,hotkey62,hotkey02,hotkey62,hotkey02,hotkey62,hotkey02,t390,hotkey62,hotkey02,hotkey62,s,s,s,s,hotkey11,s,s,s,hotkey12,hotkey02,hotkey62,hotkey12,s,s,s,t395,s,s,hotkey02,hotkey92,hotkey62,s,s,hotkey62,hotkey02,hotkey62,hotkey02,hotkey62,hotkey02,s,hotkey62,hotkey02,hotkey62,hotkey02,hotkey62,hotkey12,t400,hotkey02,hotkey62,hotkey12,hotkey02,hotkey62,hotkey02,hotkey62,s,hotkey02,s,hotkey02,hotkey62,hotkey02,hotkey62,hotkey02,hotkey62,s,s,s,t405,s,hotkey12,hotkey02,hotkey62,hotkey12,s,Base,s,s,t410,s,s,s,s,s,Base,s,s,s,s,hotkey11,hotkey12,hotkey02,hotkey62,s,hotkey12,s,s,t415,s,hotkey72,hotkey62,hotkey02,hotkey62,hotkey02,hotkey62,hotkey02,hotkey62,hotkey02,hotkey62,s,s,s,t420,hotkey02,hotkey62,hotkey02,hotkey62,hotkey02,s,hotkey02,s,hotkey00,hotkey62,s,s,s,s,s,s,s,s,s,s,hotkey11,s,s,t425,s,s,hotkey62,hotkey02,hotkey62,hotkey02,hotkey62,hotkey02,hotkey62,hotkey02,hotkey62,s,hotkey02,hotkey62,hotkey02,hotkey62,hotkey02,hotkey62,s,s,t430,s,hotkey02,hotkey62,hotkey02,hotkey62,s,s,s,hotkey11,s,hotkey02,hotkey62,hotkey02,hotkey62,hotkey02,hotkey62,hotkey02,t435,hotkey62,hotkey02,hotkey62,s,s,s,s,hotkey12,hotkey02,hotkey62,hotkey12,s,hotkey12,hotkey02,hotkey62,hotkey12,s,hotkey02,hotkey62,hotkey12,t440,hotkey02,hotkey62,hotkey12,s,s,s,hotkey12,hotkey02,hotkey62,hotkey12,s,t445,hotkey02,hotkey62,hotkey92,s,hotkey62,s,s,s,s,s,s,s,hotkey72,s,hotkey12,hotkey62,s,t450,s,hotkey72,hotkey62,hotkey02,hotkey62,hotkey02,s,hotkey02,hotkey62,s,hotkey12,hotkey02,hotkey62,hotkey12,hotkey02,hotkey62,hotkey02,hotkey62,hotkey02,hotkey62,hotkey02,hotkey62,hotkey02,hotkey62,t455,s,s,hotkey72,hotkey02,hotkey62,hotkey02,hotkey62,s,s,s,hotkey62,hotkey02,hotkey62,hotkey02,hotkey62,hotkey02,hotkey62,hotkey12,t460,hotkey02,hotkey62,hotkey12,hotkey02,hotkey12,hotkey02,hotkey62,hotkey12,hotkey02,hotkey62,hotkey12,hotkey62,hotkey02,hotkey62,hotkey02,hotkey62,s,s,s,hotkey62,hotkey02,hotkey62,hotkey02,hotkey62,hotkey02,hotkey62,hotkey02,hotkey62,t465,s,hotkey12,s,s,hotkey10,hotkey02,hotkey62,hotkey02,hotkey62,s,t470,hotkey72,hotkey12,hotkey02,hotkey62,hotkey12,hotkey62,s,s,s,hotkey12,hotkey02,hotkey62,hotkey02,hotkey62,hotkey02,hotkey62,hotkey02,hotkey62,hotkey02,s,hotkey02,hotkey62,hotkey02,s,hotkey12,hotkey02,hotkey62,hotkey12,hotkey62,s,s,hotkey12,hotkey02,hotkey62,hotkey12,t475,hotkey02,hotkey62,hotkey12,hotkey02,hotkey62,hotkey12,hotkey02,hotkey62,hotkey12,hotkey02,hotkey62,hotkey12,hotkey02,hotkey62,hotkey02,s,hotkey12,t480,hotkey02,hotkey62,hotkey12,hotkey62,s,s,hotkey12,hotkey02,hotkey62,hotkey12,hotkey02,hotkey62,hotkey12,s,hotkey02,hotkey62,hotkey02,s,hotkey62,hotkey72,t485,hotkey12,hotkey02,hotkey62,hotkey12,hotkey62,hotkey12,hotkey02,hotkey62,hotkey12,hotkey62,hotkey12,hotkey02,hotkey62,hotkey12,hotkey62,s,s,hotkey12,hotkey02,hotkey62,hotkey12,hotkey62,s,s,t490,hotkey12,hotkey02,hotkey62,s,hotkey02,hotkey62,s,s,hotkey12,hotkey02,hotkey62,hotkey12,hotkey62,s,s,s,t495,Base,s,hotkey62,Base,s,hotkey60,s,hotkey92,hotkey72,hotkey62,s,hotkey62,hotkey12,hotkey02,hotkey62,hotkey12,hotkey62,t500,hotkey12,hotkey92,hotkey02,hotkey62,hotkey02,hotkey62,hotkey02,s,hotkey12,hotkey02,hotkey12,hotkey02,hotkey00,hotkey12,hotkey02,hotkey62,hotkey12,t505,hotkey62,s,s,s,hotkey12,hotkey02,hotkey62,hotkey12,hotkey02,hotkey12,hotkey02,hotkey62,hotkey12,hotkey62,hotkey12,hotkey62,hotkey02,hotkey62,hotkey02,hotkey62,hotkey72,t510,hotkey12,hotkey72,hotkey12,hotkey02,hotkey62,hotkey12,hotkey72,s,hotkey72,t515,s,hotkey12,hotkey02,hotkey62,hotkey12,hotkey72,hotkey12,hotkey72,hotkey62,s,s,s,s,s,s,hotkey72,hotkey02,hotkey62,hotkey02,t520,hotkey62,s,s,s,hotkey12,hotkey02,hotkey62,hotkey12,hotkey72,hotkey02,hotkey62,hotkey02,hotkey62,hotkey02,hotkey62,hotkey72,hotkey12,t525,hotkey72,hotkey12,hotkey02,hotkey62,hotkey12,hotkey72,hotkey12,hotkey02,hotkey62,hotkey12,t530,hotkey02,hotkey62,hotkey02,hotkey62,hotkey12,hotkey72,hotkey12,Base,s,s,t535,hotkey12,s,hotkey12,s,hotkey72,hotkey12,hotkey02,hotkey62,t540,hotkey12,hotkey02,hotkey62,hotkey02,hotkey62,s,s,s,s,s,hotkey12,hotkey02,t545,hotkey62,hotkey12,hotkey62,Base,s,hotkey61,s,hotkey62,hotkey72,s,hotkey02,hotkey62,hotkey02,hotkey62,hotkey02,hotkey62,s,hotkey02,hotkey62,hotkey02,hotkey62,t550,hotkey12,hotkey02,hotkey62,hotkey12,s,s,s,hotkey12,hotkey02,hotkey62,s,hotkey02,hotkey62,hotkey02,hotkey62,hotkey12,hotkey02,hotkey62,hotkey12,hotkey02,hotkey62,hotkey02,hotkey62,hotkey02,hotkey62,s,s,s,t555,s,s,hotkey62,s,hotkey12,hotkey02,hotkey62,hotkey12,hotkey62,hotkey02,hotkey62,hotkey02,hotkey62,hotkey02,hotkey62,hotkey02,hotkey62,hotkey02,hotkey62,s,s,s,s,s,s,s,s,hotkey72,t560,hotkey12,hotkey02,hotkey62,hotkey12,hotkey62,s,hotkey12,hotkey62,s,s,hotkey62,s,s,s,s,hotkey02,t565,s,s,s,s,hotkey12,hotkey02,hotkey62,hotkey12,hotkey02,hotkey62,hotkey02,hotkey62,s,t570,s,s,hotkey02,hotkey62,hotkey02,hotkey62,hotkey02,hotkey62,s,hotkey02,hotkey62,hotkey02,hotkey62,s,hotkey02,hotkey62,hotkey02,hotkey62,t575,hotkey02,hotkey62,hotkey02,s,hotkey02,hotkey62,s,hotkey02,hotkey62,hotkey02,hotkey62,s,hotkey02,hotkey62,hotkey02,t580,hotkey62,hotkey02,hotkey62,s,s,hotkey12,hotkey02,hotkey62,hotkey12,hotkey62,s,s,s,hotkey12,hotkey02,hotkey62,hotkey02,hotkey62,hotkey02,hotkey62,s,t585,s,hotkey62,hotkey02,s,hotkey62,hotkey02,hotkey62,hotkey02,hotkey62,s,hotkey62,t590,s,s,hotkey62,s,s,hotkey02,hotkey62,s,s,s,hotkey12,hotkey02,hotkey62,hotkey12,hotkey62,s,t595,s,s,hotkey12,hotkey62,s,hotkey62,s,s,s,hotkey62,hotkey02,hotkey62,hotkey02,hotkey62,hotkey92,hotkey02,hotkey62,hotkey02,hotkey62,hotkey02,hotkey62,s,t600,s,s,s,hotkey02,s,hotkey12,hotkey02,hotkey62,hotkey12,hotkey62,hotkey02,hotkey62,hotkey02,hotkey62,hotkey02,hotkey62,hotkey02,hotkey62,hotkey02,hotkey62,t605,hotkey02,hotkey62,s,hotkey02,hotkey62,hotkey02,hotkey62,s,s,s,s,s,hotkey12,hotkey02,s,s,hotkey02,t610,s,s,hotkey02,s,hotkey62,hotkey02,hotkey62,hotkey02,hotkey62,s,t615,hotkey02,s,hotkey02,hotkey62,s,hotkey62,hotkey02,hotkey62,hotkey02,hotkey62,s,s,hotkey92,hotkey02,hotkey62,hotkey02,hotkey62,hotkey12,hotkey02,t620,hotkey62,hotkey02,hotkey62,s,hotkey62,hotkey02,hotkey62,s,s,s,hotkey02,t625,hotkey62,hotkey02,hotkey62,s,hotkey02,hotkey62,s,hotkey62,s,s,s,hotkey12,hotkey02,hotkey62,hotkey12,hotkey62,s,s,s,t630,hotkey02,hotkey62,hotkey02,hotkey62,hotkey02,hotkey62,hotkey02,hotkey62,s,hotkey72,s,hotkey02,hotkey62,hotkey02,hotkey62,hotkey02,hotkey62,s,hotkey70,hotkey62,hotkey02,hotkey62,hotkey02,hotkey62,t635,s,hotkey72,hotkey02,hotkey62,s,hotkey02,hotkey62,hotkey02,s,hotkey70,s,hotkey72,t640,hotkey62,s,s,s,hotkey12,hotkey02,hotkey62,hotkey12,hotkey62,s,s,hotkey92,hotkey02,hotkey62,s,s,t645,s,s,s,s,s,hotkey62,s,hotkey62,s,s,hotkey02,hotkey62,hotkey02,hotkey62,hotkey02,hotkey62,s,hotkey62,hotkey02,hotkey62,hotkey02,hotkey62,s,s,s,t650,hotkey62,hotkey12,hotkey02,hotkey62,hotkey12,hotkey62,s,s,s,s,hotkey02,hotkey72,t655,s,s,hotkey72,hotkey62,s,s,s,s,s,hotkey72,hotkey12,hotkey62,t660,hotkey02,hotkey62,s,hotkey62,hotkey02,hotkey62,hotkey02,hotkey62,hotkey02,hotkey62,hotkey02,hotkey62,s,t665,hotkey02,hotkey62,hotkey02,hotkey62,hotkey02,hotkey62,s,s,s,s,hotkey12,hotkey62,s,s,hotkey12,s,s,s,hotkey02,hotkey62,hotkey02,t670,hotkey62,s,s,hotkey02,hotkey62,hotkey02,hotkey62,hotkey02,hotkey62,s,s,s,s,hotkey02,hotkey62,s,hotkey02,hotkey62,hotkey02,s,hotkey62,hotkey72,t675,hotkey12,hotkey20,s,hotkey10,hotkey02,hotkey62,hotkey02,hotkey62,hotkey92,s,hotkey92,hotkey62,s,t680,s,hotkey02,hotkey62,hotkey02,hotkey62,hotkey02,hotkey62,s,s,s,s,s,hotkey72,hotkey62,hotkey02,hotkey62,s,s,hotkey12,hotkey02,hotkey62,t685,hotkey12,s,s,hotkey02,hotkey62,hotkey02,hotkey62,hotkey02,hotkey62,hotkey02,hotkey62,s,hotkey12,hotkey62,s,s,s,s,s,s,hotkey11,t690,hotkey62,hotkey02,hotkey62,hotkey02,hotkey62,hotkey02,hotkey62,hotkey02,hotkey62,hotkey02,hotkey62,hotkey02,hotkey62,hotkey02,hotkey62,s,hotkey12,hotkey02,hotkey62,hotkey12,hotkey92,t695,hotkey02,hotkey62,s,hotkey12,hotkey02,hotkey62,hotkey12,hotkey02,hotkey12,hotkey02,hotkey62,hotkey12,hotkey02,hotkey62,hotkey12,hotkey22,hotkey12,hotkey02,t700,hotkey62,hotkey12,hotkey22,s,hotkey20,hotkey12,hotkey02,hotkey62,hotkey12,hotkey02,hotkey62,hotkey12,hotkey02,hotkey12,s,hotkey02,hotkey62,hotkey02,hotkey62,hotkey02,hotkey62,hotkey02,hotkey62,s,t705,hotkey72,hotkey02,hotkey62,hotkey02,hotkey62,s,s,s,hotkey12,hotkey02,hotkey62,s,hotkey62,s,s,s,t710,Base,s,hotkey02,hotkey62,hotkey02,hotkey62,hotkey02,hotkey62,hotkey02,hotkey62,hotkey12,hotkey22,hotkey12,hotkey02,hotkey62,hotkey12,t715,hotkey02,hotkey62,hotkey12,s,s,s,s,s,s,hotkey10,s,s,hotkey22,hotkey02,hotkey62,hotkey02,hotkey62,hotkey02,hotkey62,Base,s,s,hotkey62,hotkey02,hotkey62,hotkey02,t720,hotkey62,s,hotkey02,hotkey62,s,hotkey02,hotkey62,hotkey02,hotkey62,s,hotkey02,s,t725,s,hotkey12,hotkey22,hotkey12,hotkey02,hotkey62,hotkey12,hotkey22,hotkey12,hotkey02,hotkey62,hotkey12,s,hotkey02,hotkey62,hotkey02,hotkey62,t730,hotkey02,hotkey62,s,s,s,s,s,hotkey02,hotkey62,s,s,s,hotkey12,hotkey62,s,s,s,s,s,s,hotkey11,hotkey22,t735,hotkey12,hotkey02,hotkey62,hotkey12,hotkey02,hotkey62,hotkey12,hotkey22,hotkey12,hotkey02,hotkey62,hotkey12,hotkey02,hotkey62,hotkey12,hotkey62,s,s,s,t740,s,hotkey11,hotkey12,hotkey02,hotkey62,hotkey02,hotkey62,hotkey02,hotkey62,hotkey02,hotkey62,hotkey02,hotkey62,hotkey02,hotkey62,hotkey02,hotkey62,hotkey02,hotkey62,s,s,hotkey62,hotkey02,hotkey62,hotkey02,hotkey62,s,t745,hotkey02,hotkey62,hotkey02,hotkey62,hotkey02,hotkey62,s,hotkey72,s,hotkey02,hotkey62,hotkey02,hotkey62,hotkey02,hotkey62,hotkey02,hotkey62,s,hotkey12,hotkey02,hotkey62,hotkey12,t750,hotkey62,s,s,s,s,s,s,hotkey11,hotkey12,hotkey02,hotkey62,hotkey02,hotkey62,hotkey92,hotkey02,hotkey62,s,hotkey12,hotkey02,hotkey62,hotkey12,hotkey02,hotkey62,hotkey02,hotkey62,s,t755,hotkey12,hotkey22,hotkey12,hotkey02,hotkey62,hotkey12,hotkey62,s,s,s,s,hotkey11,hotkey12,hotkey02,hotkey62,hotkey02,hotkey62,s,hotkey22,hotkey12,hotkey02,t760,hotkey62,s,hotkey12,s,s,s,s,s,s,hotkey02,s,hotkey12,hotkey02,hotkey62,hotkey12,hotkey62,s,hotkey22,t765,hotkey02,hotkey62,hotkey22,hotkey12,hotkey02,hotkey62,hotkey12,hotkey02,s,hotkey62,hotkey12,s,s,hotkey02,s,hotkey62,hotkey12,s,hotkey02,hotkey62,hotkey12,hotkey22,hotkey02,hotkey62,hotkey22,hotkey12,hotkey02,hotkey62,hotkey12,hotkey62,t770,s,s,s,s,s,s,hotkey11,hotkey12,hotkey22,hotkey02,hotkey62,hotkey22,hotkey20,s,hotkey20,s,s,hotkey02,hotkey62,hotkey22,s,hotkey20,hotkey12,hotkey02,hotkey62,hotkey12,t775,hotkey22,s,hotkey12,hotkey22,hotkey12,hotkey22,hotkey12,hotkey22,hotkey12,hotkey22,hotkey12,hotkey22,hotkey12,hotkey22,s,hotkey92,s,s,s,s,hotkey90,s,hotkey02,hotkey62,hotkey02,hotkey62,hotkey02,s,s,t780,s,hotkey92,hotkey12,hotkey02,hotkey62,hotkey12,hotkey22,hotkey12,hotkey22,hotkey12,hotkey32,hotkey62,s,s,s,s,s,s,s,s,hotkey11,hotkey62,s,s,hotkey12,t785,hotkey62,hotkey12,hotkey62,hotkey12,hotkey62,s,hotkey12,hotkey62,hotkey12,hotkey72,hotkey12,hotkey02,hotkey62,hotkey12,hotkey22,hotkey02,hotkey62,hotkey22,hotkey12,hotkey22,t790,hotkey12,hotkey02,hotkey62,hotkey12,hotkey62,s,s,s,s,s,hotkey11,hotkey12,hotkey02,hotkey62,hotkey12,hotkey02,s,hotkey62,hotkey12,hotkey62,hotkey12,hotkey62,hotkey12,t795,hotkey62,s,s,s,s,hotkey11,hotkey02,hotkey62,hotkey02,hotkey62,hotkey02,hotkey62,hotkey02,s,s,s,s,hotkey22,hotkey02,hotkey62,hotkey22,hotkey12,hotkey02,s,t800,hotkey12,hotkey02,hotkey62,hotkey12,hotkey02,hotkey12,hotkey02,hotkey62,hotkey02,hotkey62,hotkey92,hotkey02,hotkey62,hotkey02,hotkey62,hotkey02,s,hotkey12,hotkey02,hotkey62,hotkey12,hotkey02,hotkey62,hotkey12,t805,hotkey02,hotkey62,hotkey02,hotkey62,hotkey72,hotkey12,hotkey22,hotkey12,hotkey02,hotkey62,hotkey12,hotkey22,hotkey02,hotkey62,hotkey22,hotkey20,hotkey02,hotkey62,hotkey22,t810,hotkey12,hotkey02,hotkey62,s,hotkey12,s,s,s,s,s,s,s,s,s,s,s,hotkey12,hotkey22,s,hotkey02,hotkey62,hotkey22,s,t815,hotkey12,hotkey02,hotkey62,hotkey12,hotkey22,hotkey12,s,s,hotkey02,s,hotkey62,hotkey12,s,s,s,hotkey12,hotkey02,hotkey62,hotkey12,t820,s,s,hotkey02,hotkey62,hotkey12,s,s,s,s,s,s,s,hotkey22,s,s,hotkey02,hotkey62,hotkey22,s,hotkey62,s,s,s,s,s,s,s,s,t825,s,hotkey11,hotkey12,s,hotkey22,hotkey20,hotkey12,s,hotkey02,hotkey62,s,hotkey11,hotkey12,s,s,s,s,hotkey92,hotkey12,t830,s,hotkey02,hotkey62,hotkey12,s,hotkey62,s,s,s,hotkey11,hotkey11,hotkey11,s,s,hotkey11,hotkey22,hotkey12,s,s,t835,hotkey22,hotkey20,hotkey12,s,s,s,hotkey22,hotkey62,s,s,hotkey11,hotkey12,s,hotkey22,hotkey02,hotkey62,hotkey22,hotkey62,s,t840,s,s,hotkey11,s,s,s,hotkey22,hotkey12,hotkey02,hotkey62,hotkey12,hotkey62,s,s,t845,s,hotkey11,s,hotkey11,hotkey12,hotkey02,hotkey62,hotkey12,hotkey02,hotkey62,hotkey12,s,hotkey02,hotkey62,hotkey12,s,hotkey12,hotkey02,hotkey62,hotkey12,hotkey62,s,s,s,t850,s,hotkey11,hotkey12,s,s,hotkey02,s,hotkey62,hotkey12,s,s,s,s,s,s,s,s,s,s,hotkey02,hotkey62,hotkey12,hotkey22,hotkey02,hotkey62,hotkey22,hotkey12,s,s,hotkey62,s,t855,s,s,s,s,hotkey11,hotkey12,hotkey02,hotkey62,hotkey02,hotkey62,hotkey92,s,hotkey02,hotkey62,s,hotkey02,hotkey62,s,hotkey12,hotkey02,hotkey62,hotkey12,hotkey62,s,t860,s,s,hotkey11,hotkey12,s,hotkey02,hotkey62,hotkey12,s,hotkey12,s,s,hotkey62,s,s,t865,s,hotkey11,hotkey22,hotkey12,hotkey22,s,hotkey12,s,s,hotkey62,hotkey12,s,hotkey02,hotkey62,hotkey12,t870,hotkey62,s,s,hotkey11,s,s,hotkey12,s,hotkey22,hotkey02,s,hotkey12,s,hotkey02,hotkey62,hotkey12,s,hotkey62,s,s,s,s,s,t875,s,hotkey11,s,s,s,s,hotkey11,hotkey12,hotkey02,hotkey62,hotkey12,s,hotkey02,hotkey62,hotkey12  339 non-null    object\n",
            "dtypes: object(1)\n",
            "memory usage: 2.8+ KB\n"
          ]
        }
      ],
      "source": [
        "data1.info()"
      ]
    },
    {
      "cell_type": "code",
      "execution_count": 6,
      "metadata": {
        "colab": {
          "base_uri": "https://localhost:8080/"
        },
        "id": "ZImqO97z7u1s",
        "outputId": "56cdfb6f-4712-437d-8a20-eb6ed2dc0fe8"
      },
      "outputs": [
        {
          "output_type": "stream",
          "name": "stdout",
          "text": [
            "<class 'pandas.core.frame.DataFrame'>\n",
            "RangeIndex: 3051 entries, 0 to 3050\n",
            "Data columns (total 1 columns):\n",
            " #   Column                                                                                                                                                                                                                                                                                                                                                                                                                                                                                                                                                                                                                                                                                                                                                                                                                                                                                                                                                                                                                                                                                                                                                                                                                                                                                                                                                                                                                                                                                                                                                                                                                                                                                                                                                                                                                                                                                                                                                                                                                                                                                                                                                                                                                                                                                                                                                                                                                                                                                                                                                                                                                                                                                                                                                                                                                                                                                                                                                                                                                                                                                                                                                                                                                                                                                                                                                                                                                                                                                                                                                                                                                                                                                                                                                                                                                                                                                                                                                                                                                                                                                                                                                                                                                                                                                                                                                                                                                                                                                                                                                                                                                                                                                                                                                                                                                                                                                                                                                                                                                                                                                                                                                                                                                                                                                                                                                                                                                                                                                                                                                                                                                                                                                                                                                                                                                                                                                                                                                                                                                                                                                                                                                                                                                                                                                                                                                                                                                                                                                                                                                                                                                                                                                                                                                                                                                                                                                                                                                                                                                                                                                                                                                                                                                                                                                                                                                                                                                                                                                                                                                                                                                                                                                                                                                                                                                                                                                                                                                                                                                                                                                                                                                                                                                                                                                                                                                                                                                                                                                                                                                                                                                                                                                                                                                                                                                                                                                                                                                                                                                                                                                                                                                                                                                                                                                                                                                                                                                                                                                                                                                                                                                                                                                                                                                                                                                                                                                                                                                                                                                                                                                                                                                                                                                                                                                                                                                                                                                                                                                                                                                                                                                                                                                                                                                                                                                                                                                                                                                                                                                                                                                                                                                                                                                                                                                                                                                                                                                                                                                                                                                                                                                                                                                                                                                                                                                                                                                                                                                                                                                                                                                                                                                                                                                                                                                                                                                                                                                                                                                                                                                                                                                                                                                                                                                                                                                                                                                                                                                                                                                                                                                                                                                                                                                                                                                                                                                                                                                                                                                                                                                                                                                                                                                                                                                                                                                                                                                                                                                                                                                                                                                                                                                                                                                                                                                                                                                                                                                                                                                                                                                                                                                                                                                                                                                                                                                                                                                                                                                                                                                                                                                                                                                                                                                                                                                                                                                                                                                                                                                                                                                                                                                                                                                                                                                                                                                                                                                                                                                                                                                                                                                                                                                                                                                                                                                                                                                                                                                                                                                                                                                                                                                                                                                                                                                                                                                                                                                                                                                                                                                                                                                                                                                                                                                                                                                                                                                                                                                                                                                                                                                                                                                                                          Non-Null Count  Dtype \n",
            "---  ------                                                                                                                                                                                                                                                                                                                                                                                                                                                                                                                                                                                                                                                                                                                                                                                                                                                                                                                                                                                                                                                                                                                                                                                                                                                                                                                                                                                                                                                                                                                                                                                                                                                                                                                                                                                                                                                                                                                                                                                                                                                                                                                                                                                                                                                                                                                                                                                                                                                                                                                                                                                                                                                                                                                                                                                                                                                                                                                                                                                                                                                                                                                                                                                                                                                                                                                                                                                                                                                                                                                                                                                                                                                                                                                                                                                                                                                                                                                                                                                                                                                                                                                                                                                                                                                                                                                                                                                                                                                                                                                                                                                                                                                                                                                                                                                                                                                                                                                                                                                                                                                                                                                                                                                                                                                                                                                                                                                                                                                                                                                                                                                                                                                                                                                                                                                                                                                                                                                                                                                                                                                                                                                                                                                                                                                                                                                                                                                                                                                                                                                                                                                                                                                                                                                                                                                                                                                                                                                                                                                                                                                                                                                                                                                                                                                                                                                                                                                                                                                                                                                                                                                                                                                                                                                                                                                                                                                                                                                                                                                                                                                                                                                                                                                                                                                                                                                                                                                                                                                                                                                                                                                                                                                                                                                                                                                                                                                                                                                                                                                                                                                                                                                                                                                                                                                                                                                                                                                                                                                                                                                                                                                                                                                                                                                                                                                                                                                                                                                                                                                                                                                                                                                                                                                                                                                                                                                                                                                                                                                                                                                                                                                                                                                                                                                                                                                                                                                                                                                                                                                                                                                                                                                                                                                                                                                                                                                                                                                                                                                                                                                                                                                                                                                                                                                                                                                                                                                                                                                                                                                                                                                                                                                                                                                                                                                                                                                                                                                                                                                                                                                                                                                                                                                                                                                                                                                                                                                                                                                                                                                                                                                                                                                                                                                                                                                                                                                                                                                                                                                                                                                                                                                                                                                                                                                                                                                                                                                                                                                                                                                                                                                                                                                                                                                                                                                                                                                                                                                                                                                                                                                                                                                                                                                                                                                                                                                                                                                                                                                                                                                                                                                                                                                                                                                                                                                                                                                                                                                                                                                                                                                                                                                                                                                                                                                                                                                                                                                                                                                                                                                                                                                                                                                                                                                                                                                                                                                                                                                                                                                                                                                                                                                                                                                                                                                                                                                                                                                                                                                                                                                                                                                                                                                                                                                                                                                                                                                                                                                                                                                                                                                                                                                                                                                          --------------  ----- \n",
            " 0   http://eu.battle.net/sc2/en/profile/4234852/1/First/,Protoss,Base,s,s,s,s,s,t5,Base,s,hotkey30,hotkey00,t10,t15,t20,t25,t30,t35,s,hotkey32,s,hotkey32,s,hotkey32,s,t40,hotkey32,s,hotkey32,s,hotkey32,s,hotkey32,s,t45,hotkey32,SingleMineral,s,t50,s,hotkey32,s,hotkey32,t55,s,hotkey32,s,t60,hotkey32,s,hotkey32,s,hotkey32,s,hotkey32,s,hotkey32,t65,s,hotkey32,s,hotkey32,s,hotkey32,s,hotkey32,s,hotkey32,s,hotkey32,s,hotkey32,t70,s,hotkey32,s,hotkey32,s,s,hotkey32,s,hotkey32,s,hotkey32,t75,s,hotkey32,s,hotkey32,s,hotkey32,s,hotkey32,t80,s,hotkey32,s,hotkey32,s,hotkey32,s,hotkey32,s,hotkey32,s,hotkey32,s,hotkey32,s,hotkey32,t85,s,hotkey32,s,hotkey32,s,hotkey32,s,hotkey32,t90,s,hotkey32,s,hotkey32,s,hotkey32,s,hotkey32,s,hotkey32,s,hotkey32,t95,s,hotkey10,hotkey32,s,hotkey10,t100,hotkey32,s,t105,hotkey32,t110,s,hotkey32,s,hotkey32,t115,s,hotkey32,s,hotkey32,s,hotkey32,s,hotkey32,s,hotkey32,s,hotkey40,t120,hotkey32,hotkey42,hotkey32,hotkey42,hotkey32,hotkey42,hotkey32,s,hotkey32,t125,s,hotkey32,s,hotkey32,hotkey42,hotkey32,hotkey42,hotkey32,hotkey42,s,t130,hotkey10,hotkey32,s,hotkey32,t135,s,hotkey32,s,hotkey32,s,hotkey32,t140,s,hotkey32,s,hotkey32,s,s,s,hotkey32,s,hotkey32,t145,s,s,hotkey32,s,hotkey20,t150,hotkey32,hotkey22,t155,hotkey32,s,s,hotkey32,t160,s,hotkey32,hotkey12,hotkey32,t165,s,hotkey32,s,s,hotkey32,t170,s,hotkey12,hotkey22,t175,hotkey12,hotkey42,s,hotkey50,hotkey12,t180,hotkey32,s,hotkey32,s,hotkey32,t185,s,hotkey32,s,hotkey32,hotkey42,s,hotkey32,t190,hotkey12,hotkey32,hotkey42,hotkey32,hotkey42,hotkey32,s,hotkey32,s,hotkey32,t195,s,hotkey32,s,hotkey32,s,hotkey32,s,hotkey32,s,hotkey32,s,hotkey32,s,hotkey32,SingleMineral,s,hotkey32,SingleMineral,s,hotkey32,t200,s,hotkey32,s,hotkey32,s,hotkey32,s,hotkey32,t205,hotkey12,hotkey32,s,hotkey32,hotkey12,hotkey32,hotkey42,hotkey32,t210,hotkey42,hotkey32,hotkey42,hotkey52,hotkey12,hotkey32,hotkey42,hotkey32,hotkey42,hotkey32,hotkey42,hotkey32,Base,s,hotkey12,t215,hotkey52,hotkey12,t220,hotkey32,hotkey12,hotkey42,hotkey32,hotkey12,t225,hotkey42,hotkey52,hotkey12,hotkey32,hotkey12,hotkey32,t230,hotkey12,hotkey32,hotkey42,hotkey32,hotkey42,s,hotkey20,hotkey12,t235,hotkey22,t240,hotkey32,hotkey12,hotkey32,hotkey12,hotkey32,t245,hotkey12,t250,hotkey32,hotkey42,t255,hotkey32,s,hotkey20,hotkey32,hotkey12,hotkey32,t260,hotkey42,s,hotkey22,t265,hotkey42,hotkey22,hotkey12,hotkey42,hotkey32,hotkey42,hotkey32,hotkey42,t270,s,hotkey10,hotkey42,s,hotkey42,t275,hotkey22,hotkey12,hotkey22,t280,hotkey32,hotkey12,t285,hotkey32,hotkey42,hotkey32,hotkey42,hotkey32,hotkey42,hotkey12,hotkey32,SingleMineral,s,hotkey32,s,hotkey32,t290,s,hotkey32,s,hotkey32,s,s,hotkey32,hotkey42,hotkey32,hotkey42,hotkey12,hotkey22,t295,hotkey12,hotkey32,hotkey42,hotkey12,hotkey32,t300,hotkey42,s,hotkey22,hotkey12,hotkey42,hotkey32,t305,hotkey42,hotkey32,hotkey42,hotkey32,hotkey42,hotkey32,hotkey42,s,t310,hotkey12,hotkey42,hotkey12,hotkey42,s,s,t315,hotkey40,s,hotkey70,hotkey60,hotkey12,hotkey62,hotkey42,hotkey12,t320,hotkey62,hotkey12,hotkey22,hotkey62,s,hotkey62,hotkey32,hotkey12,t325,s,hotkey10,hotkey22,hotkey32,hotkey42,hotkey32,hotkey42,hotkey32,hotkey42,s,t330,hotkey42,hotkey22,hotkey12,hotkey42,hotkey12,hotkey42,hotkey12,t335,hotkey42,hotkey12,hotkey32,hotkey42,hotkey32,hotkey42,hotkey52,hotkey62,s,t340,hotkey12,hotkey62,hotkey32,t345,hotkey22,hotkey12,hotkey32,s,hotkey32,s,hotkey32,hotkey42,hotkey32,hotkey42,hotkey32,hotkey42,hotkey32,hotkey42,hotkey32,hotkey42,t350,hotkey22,hotkey12,hotkey22,t355,hotkey32,s,s,hotkey22,s,hotkey22,t360,hotkey32,hotkey22,hotkey32,hotkey42,hotkey32,hotkey42,hotkey32,hotkey22,t365,hotkey12,hotkey42,s,hotkey20,hotkey42,hotkey22,hotkey42,t370,hotkey12,hotkey22,t375,hotkey12,hotkey42,hotkey12,hotkey42,t380,s,hotkey42,hotkey32,hotkey42,t385,hotkey52,hotkey42,s,t390,hotkey32,s,hotkey32,s,hotkey20,hotkey12,hotkey22,t395,hotkey42,s,s,s,s,s,s,hotkey22,s,hotkey20,s,hotkey12,hotkey42,hotkey12,t400,s,hotkey10,s,hotkey12,s,s,s,t405,hotkey12,hotkey62,hotkey32,t410,hotkey22,t415,hotkey32,hotkey22,hotkey12,hotkey32,hotkey42,hotkey32,t420,hotkey42,hotkey32,hotkey42,hotkey12,s,hotkey42,s,hotkey22,t425,hotkey12,hotkey42,hotkey32,hotkey62,t430,hotkey32,hotkey12,s,hotkey12,hotkey42,hotkey12,s,t435,hotkey10,s,hotkey32,hotkey42,hotkey32,hotkey42,s,hotkey22,hotkey12,t440,s,hotkey12,t445,hotkey62,hotkey12,s,t450,hotkey12,s,hotkey12,t455,s,hotkey12,s,t460,s,hotkey12,t465,t470,s,hotkey12,s,t475,hotkey12,hotkey42,hotkey12,s,hotkey10,hotkey32,hotkey12,s,hotkey32,hotkey52,t480,s,hotkey50,s,hotkey22,hotkey12,hotkey32,hotkey22,hotkey32,t485,s,hotkey22,s,s,s,hotkey12,t490,s,hotkey12,hotkey32,hotkey42,hotkey32,hotkey42,s,hotkey22,t495,s,s,s,hotkey32,s,s,s,t500,hotkey20,s,hotkey22,s,hotkey20,s,hotkey22,s,hotkey20,hotkey32,hotkey22,t505,s,hotkey20,s,s,hotkey22,hotkey32,t510,s,hotkey12,hotkey52,hotkey12,hotkey52,hotkey12,hotkey52,t515,hotkey12,s,hotkey12,hotkey32,t520,hotkey12,hotkey32,SingleMineral,s,hotkey32,s,hotkey32,hotkey42,s,hotkey32,hotkey52,t525,hotkey12,hotkey32,hotkey12,hotkey52,hotkey32,hotkey12,t530,hotkey32,hotkey12,hotkey32,hotkey12,t535,t540,hotkey42,hotkey32,hotkey12,t545,s,hotkey12,s,hotkey32,hotkey12,hotkey32,hotkey42,hotkey32,t550,hotkey42,hotkey32,hotkey42,s,s,s,hotkey12,s,hotkey32,hotkey12,t555,hotkey32,s,hotkey32,hotkey12,hotkey32,hotkey22,s,t560,s,hotkey12,hotkey42,hotkey12,s,hotkey12,t565,hotkey32,hotkey12,hotkey32,hotkey42,hotkey32,hotkey42,hotkey32,s,hotkey12,s,s,hotkey12,t570,hotkey32,hotkey42,hotkey52,s,hotkey20,hotkey12,t575,hotkey32,hotkey12,hotkey32,hotkey42,s,s,hotkey12,t580,hotkey22,hotkey12,hotkey32,hotkey42,s,hotkey32,hotkey42,t585,hotkey32,hotkey42,s,hotkey12,t590,s,hotkey22,hotkey12,t595,s,hotkey12,t600,s,s,hotkey12,t605,hotkey32,hotkey12,hotkey32,s,hotkey32,hotkey42,s,hotkey20,s,hotkey32,t610,s,hotkey32,hotkey22,hotkey42,hotkey22,s,hotkey42,t615,s,hotkey12,hotkey32,hotkey12,s,hotkey12,t620,hotkey22,s,hotkey20,hotkey32,s,Base,s,t625,hotkey12,s,hotkey12,s,hotkey10,Base,s,hotkey32,Base,s,hotkey90,hotkey00,t630,hotkey12,hotkey32,hotkey12,hotkey32,hotkey42,s,t635,hotkey10,s,hotkey12,s,hotkey12,t640,s,hotkey12,hotkey32,t645,hotkey42,hotkey22,s,hotkey20,hotkey12,hotkey32,hotkey12,hotkey32,t650,hotkey12,s,s,t655,hotkey20,hotkey12,hotkey32,s,hotkey12,hotkey10,hotkey22,hotkey12,t660,hotkey52,hotkey22,hotkey12,hotkey32,t665,s,s,s,hotkey20,hotkey12,hotkey32,hotkey42,s,hotkey32,hotkey12,t670,hotkey42,hotkey12,s,hotkey10,hotkey32,hotkey42,s,hotkey12,t675,hotkey42,hotkey12,hotkey42,hotkey12,s,hotkey10,hotkey32,hotkey42,s,t680,hotkey22,hotkey12,hotkey32,s,s,t685,Base,s,s,hotkey12,hotkey32,hotkey42,hotkey32,hotkey42,hotkey32,s,t690,hotkey12,s,hotkey10,s,hotkey12,hotkey32,hotkey42,hotkey32,hotkey42,s,t695,s,hotkey22,hotkey32,hotkey42,s,hotkey32,hotkey42,t700,hotkey12,hotkey32,hotkey42,s,hotkey12,t705,hotkey32,s,hotkey12,s,t710,s,s,hotkey20,hotkey12,hotkey32,t715,s,hotkey12,hotkey32,hotkey52,t720,hotkey12,hotkey22,hotkey12,hotkey22,hotkey12,t725,hotkey32,s,hotkey12,hotkey22,t730,hotkey12,hotkey32,s,t735,hotkey12,hotkey22,hotkey12,t740,hotkey22,hotkey12,t745,s,s,s,s,t750,s,hotkey12,hotkey22,hotkey12,hotkey32,s,s,hotkey42,t755,hotkey32,s,hotkey12,hotkey22,hotkey12,t760,Base,s,hotkey32,Base,s,hotkey32,Base,s,hotkey32,Base,s,hotkey32,Base,s,hotkey90,hotkey00,hotkey32,hotkey12,t765,hotkey22,hotkey12,s,s,s,hotkey12,t770,hotkey22,hotkey12,hotkey22,hotkey12,hotkey22,hotkey12,hotkey22,hotkey32,hotkey12,hotkey22,hotkey12,hotkey22,t775,hotkey12,hotkey22,hotkey12,hotkey22,t780,hotkey12,hotkey22,hotkey12,hotkey22,hotkey12,s,s,s,t785,hotkey22,hotkey12,hotkey10,hotkey22,hotkey12,hotkey22,hotkey12,hotkey22,hotkey42,s,s,t790,hotkey02,hotkey12,hotkey22,hotkey12,hotkey22,hotkey12,hotkey22,hotkey12,hotkey22,hotkey12,hotkey22,hotkey12,t795,hotkey22,hotkey32,hotkey42,hotkey32,hotkey42,hotkey32,s,hotkey12,t800,hotkey22,hotkey32,hotkey22,hotkey12,hotkey42,hotkey22,t805,hotkey12,hotkey22,hotkey12,hotkey22,hotkey12,hotkey22,hotkey12,hotkey22,hotkey12,hotkey22,hotkey12,hotkey22,hotkey12,hotkey22,t810,hotkey12,hotkey32,hotkey12,hotkey22,hotkey12,hotkey22,hotkey12,t815,hotkey22,hotkey32,hotkey02,hotkey32,hotkey42,s,hotkey12,hotkey22,hotkey12,t820,hotkey22,hotkey12,hotkey22,hotkey12,s,t825,hotkey32,hotkey42,hotkey52,s,hotkey12,hotkey22,hotkey12,hotkey22,hotkey52,hotkey32,hotkey42,hotkey12,hotkey22,hotkey12,t830,s,hotkey32,s,hotkey42,s,hotkey32,hotkey42,hotkey12,t835,s,t840,hotkey12,hotkey10,hotkey32,hotkey42,s,s,t845,hotkey32,hotkey42,hotkey32,hotkey42,s,hotkey32,hotkey52,hotkey32,s,hotkey12,t850,hotkey22,hotkey32,s,s,s,hotkey02,t855,hotkey32,hotkey42,hotkey32,hotkey42,hotkey32,hotkey42,s,t860,t865,hotkey12,hotkey22,hotkey12,hotkey22,hotkey12,t870,hotkey32,Base,s,hotkey32,Base,s,s,hotkey52,hotkey02,s,t875,s,s,hotkey52,hotkey02,s,hotkey12,t880,hotkey22,hotkey12,hotkey32,Base,s,hotkey32,Base,s,hotkey32,Base,s,hotkey32,Base,s,hotkey32,Base,s,hotkey32,t885,hotkey42,hotkey52,hotkey42,s,hotkey32,s,hotkey32,hotkey42,hotkey32,hotkey42,hotkey32,hotkey42,hotkey22,t890,hotkey02,hotkey22,hotkey32,hotkey42,hotkey32,hotkey42,hotkey52,hotkey32,hotkey42,hotkey52,s,t895,hotkey32,hotkey42,hotkey52,hotkey22,hotkey12,hotkey32,Base,s,hotkey32,t900,Base,s,s,hotkey22,hotkey12,hotkey02,hotkey12,hotkey32,t905,Base,s,hotkey12,hotkey02,hotkey22,hotkey12,t910,hotkey22,hotkey02,t915,hotkey22,hotkey12,hotkey32,s,hotkey12,hotkey22,hotkey52,hotkey12,t920,hotkey22,hotkey12,hotkey52,s,hotkey60,s,hotkey60,hotkey12,hotkey52,hotkey12,hotkey52,t925,hotkey22,hotkey52,hotkey12,hotkey32,Base,s,hotkey32,Base,s,hotkey32,Base,s,hotkey32,Base,s,s,t930,s,hotkey12,hotkey22,t935,Base,s,hotkey32,Base,s,s,s,hotkey12,t940,hotkey22,hotkey12,t945,t950,hotkey52,hotkey12,hotkey52,hotkey02,hotkey52,hotkey12,t955,hotkey52,hotkey12,hotkey22,hotkey12,hotkey32,hotkey42,s,t960,hotkey20,s,hotkey20,s,hotkey10,t965,hotkey42,hotkey12,hotkey42,hotkey12,hotkey42,hotkey12,s,hotkey10,t970,s,s,s,s,s,hotkey10,s,hotkey12,hotkey10,hotkey52,t975,hotkey02,s,hotkey12,hotkey22,t980,hotkey12,t985,s,s,hotkey12,hotkey10,s,s,t990,s,hotkey10,s,hotkey20,hotkey12,s,hotkey22,t995,hotkey12,hotkey22,hotkey12,hotkey10,t1000,hotkey42,hotkey12,hotkey42,hotkey52,hotkey02,hotkey42,hotkey32,hotkey02,t1005,hotkey12,s,hotkey10,s,hotkey10,hotkey22,hotkey12,t1010,s,hotkey12,hotkey32,hotkey42,s,t1015,hotkey22,hotkey12,hotkey22,hotkey12,hotkey10,s,t1020,hotkey12,s,s,hotkey32,hotkey42,hotkey52,s,hotkey12,t1025,hotkey42,hotkey12,s,hotkey12,s,hotkey12,s,hotkey32,hotkey42,s,t1030,s,hotkey42,hotkey52,hotkey02,hotkey42,hotkey12,hotkey10,s,s,hotkey12,hotkey10,t1035,hotkey42,hotkey12,s,hotkey42,s,hotkey20,hotkey12,hotkey22,hotkey20,hotkey12,t1040,hotkey42,hotkey12,hotkey22,hotkey12,hotkey22,hotkey12,t1045,hotkey22,s,hotkey20,s,hotkey20,hotkey12,s,t1050,hotkey12,hotkey22,hotkey20,hotkey12,hotkey10,t1055,s,hotkey10,hotkey52,hotkey32,hotkey42,hotkey52,hotkey12,t1060,s,hotkey12,s,hotkey10,hotkey42,hotkey12,s,hotkey10,hotkey32,hotkey42,hotkey52,t1065,hotkey62,s,hotkey20,s,hotkey22,hotkey12,s,t1070,hotkey12,s,hotkey10,t1075,hotkey22,t1080,s,s,hotkey12,hotkey22,hotkey52,t1085,s,hotkey52,hotkey02,s,hotkey22,t1090,hotkey12,hotkey32,Base,s,t1095,hotkey32,hotkey42,s,s,hotkey32,hotkey42,hotkey52,s,hotkey12,hotkey22,t1100,hotkey32,hotkey22,hotkey12,hotkey52,hotkey32,t1105,hotkey42,hotkey52,hotkey32,s,t1110,s,hotkey12,t1115,hotkey32,hotkey42,hotkey32,hotkey42,Base,s,s,s,t1120,hotkey32,hotkey12,hotkey22,hotkey12,t1125,hotkey32,s,hotkey52,hotkey12,hotkey22,t1130,hotkey12,s,hotkey10,hotkey20,hotkey52,hotkey02,t1135,Base,s,hotkey32,Base,s,hotkey32,Base,s,hotkey42,hotkey32,hotkey42,hotkey12,t1140,s,hotkey10,hotkey32,hotkey42,hotkey32,hotkey42,s,t1145,hotkey32,hotkey42,hotkey32,hotkey42,s,hotkey20,hotkey32,hotkey42,t1150,hotkey32,hotkey42,hotkey52,s,hotkey32,hotkey42,hotkey52,s,s,s,s,s,hotkey12,t1155,hotkey52,s,s,hotkey50,s,hotkey50,hotkey22,s,hotkey32,hotkey42,hotkey52,s,t1160,hotkey22,t1165,hotkey02,hotkey22,hotkey52,hotkey22,s,t1170,s,hotkey10,s,hotkey20,hotkey12,hotkey52,t1175,hotkey12,hotkey52,hotkey12,s,s,hotkey32,hotkey42,hotkey32,hotkey42,hotkey32,s,t1180,hotkey62,hotkey12,hotkey52,hotkey12,hotkey62,hotkey22,t1185,hotkey52,s,t1190,hotkey22,s,t1195,hotkey22,t1200,t1205,hotkey52,hotkey02,Base,s,hotkey32,Base,s,hotkey32,Base,s,t1210,hotkey42,hotkey12,s,hotkey10,hotkey22,s,s,s,t1215,s,hotkey22,hotkey20,hotkey32,hotkey42,hotkey32,hotkey42,hotkey32,hotkey42,s,t1220,s,hotkey42,s,hotkey40,hotkey22,hotkey42,hotkey52,hotkey02,hotkey42,s,t1225,hotkey40,hotkey22,s,hotkey20,hotkey52,hotkey22,hotkey52,hotkey22,t1230,hotkey52,hotkey02,s,hotkey22,s,hotkey42,hotkey32,Base,s,hotkey32,Base,s,hotkey32,Base,s,s,hotkey52,hotkey32,hotkey42,s,hotkey42,t1235,hotkey22,hotkey32,hotkey42,hotkey52,s,Base,s,hotkey42,t1240,s,hotkey22,hotkey42,hotkey52,hotkey02,s,hotkey22,t1245,t1250,hotkey32,hotkey42,s,s,hotkey10,s,hotkey10,t1255,s,hotkey12,s,hotkey10,s,hotkey32,hotkey42,s,hotkey22,t1260,hotkey52,hotkey02,s,hotkey12,hotkey42,hotkey12,s,t1265,hotkey10,s,hotkey22,t1270,hotkey32,hotkey42,s,t1275,hotkey22,t1280,hotkey32,hotkey42,s,s,s,hotkey22,hotkey20,t1285,t1290,s,hotkey22,hotkey12,hotkey52,t1295,hotkey12,s,hotkey10,hotkey52,hotkey02,hotkey42,s,hotkey22,t1300,hotkey42,hotkey22,t1305,s,s,hotkey20,s,hotkey20,s,hotkey20,s,s,hotkey20,s,t1310,hotkey12,hotkey42,hotkey12,hotkey42,t1315,hotkey12,s,hotkey10,hotkey52,hotkey02,Base,s,hotkey32,Base,s,s,t1320,hotkey42,hotkey52,hotkey02,s,s,hotkey12,t1325,s,s,s,hotkey42,hotkey12,s,hotkey10,s,t1330,hotkey12,hotkey32,hotkey42,s,hotkey20,hotkey12,s,hotkey12,t1335,s,hotkey32,hotkey42,s,hotkey32,Base,s,hotkey12,t1340,s,hotkey42,hotkey52,hotkey02,hotkey12,hotkey32,hotkey42,t1345,s,hotkey32,hotkey42,hotkey52,s,t1350,hotkey12,hotkey32,Base,s,hotkey32,Base,s,hotkey32,Base,s,s,hotkey12,t1355,hotkey22,hotkey12,hotkey42,hotkey12,hotkey22,t1360,s,hotkey42,hotkey22,hotkey12,hotkey22,t1365,hotkey32,hotkey42,s,hotkey32,hotkey42,s,hotkey12,t1370,s,s,s,hotkey12,s,hotkey10,hotkey22,hotkey42,t1375,hotkey12,s,hotkey10,hotkey22,s,hotkey52,s,t1380,Base,s,hotkey02,Base,s,hotkey90,hotkey00,s,s,hotkey32,hotkey42,hotkey52,s,t1385,hotkey52,s,s,hotkey52,s,s,t1390,hotkey62,s,hotkey52,s,s,hotkey52,hotkey12,t1395,s,hotkey10,hotkey22,hotkey12,hotkey22,hotkey52,hotkey62,hotkey02,hotkey32,hotkey42,hotkey52,t1400,s,hotkey32,hotkey42,hotkey52,s,Base,s,t1405,hotkey12,hotkey22,hotkey32,hotkey42,hotkey52,s,hotkey02,s,hotkey12,t1410,s,s,t1415,s,hotkey12,hotkey22,t1420,hotkey52,hotkey12,s,hotkey12,t1425,s,hotkey12,s,hotkey12,s,hotkey10,t1430,hotkey22,hotkey32,hotkey42,hotkey52,s,hotkey52,s,hotkey52,t1435,hotkey12,hotkey22,hotkey52,hotkey02,s,hotkey32,Base,s,hotkey32,Base,s,hotkey32,Base,s,hotkey32,Base,s,hotkey32,Base,s,hotkey32,t1440,Base,s,Base,s,hotkey32,hotkey42,s,hotkey02,t1445,s,hotkey02,Base,s,hotkey90,hotkey00,t1450,s,hotkey12,hotkey22,hotkey12,hotkey22,hotkey52,t1455,hotkey02,hotkey32,Base,s,hotkey32,Base,s,hotkey32,Base,s,hotkey32,Base,s,Base,s,hotkey42,hotkey52,hotkey42,hotkey52,t1460,hotkey42,hotkey52,s,s,hotkey32,hotkey42,hotkey52,hotkey62,s,s,hotkey62,t1465,hotkey52,hotkey12,hotkey32,hotkey42,s,s,hotkey12,hotkey32,hotkey42,hotkey52,s,t1470,hotkey52,hotkey02,s,s,s,t1475,hotkey12,hotkey42,hotkey32,hotkey42,hotkey52,s,s,t1480,s,hotkey32,hotkey42,s,s,hotkey12,s,hotkey10,s,hotkey02,t1485,s,s,hotkey32,hotkey42,hotkey32,hotkey42,hotkey52,hotkey62,s,s,s,t1490,hotkey02,hotkey12,hotkey52,s,t1495,s,s,s,hotkey52,t1500,hotkey02,hotkey12,hotkey52,hotkey12,s,hotkey10,s,s,hotkey52,t1505,s,hotkey52,s,hotkey52,hotkey12,hotkey42,s,hotkey12,s,hotkey10,t1510,s,s,hotkey32,hotkey42,hotkey52,s,hotkey32,hotkey42,s,hotkey12,s,s,s,hotkey10,t1515,hotkey02,s,s,t1520,s,hotkey12,hotkey22,hotkey12,hotkey22,hotkey42,t1525,hotkey12,hotkey22,hotkey12,hotkey22,Base,s,hotkey02,s,t1530,hotkey12,hotkey42,s,Base,s,hotkey42,hotkey32,hotkey42,hotkey52,s,hotkey12,t1535,s,s,hotkey12,s,hotkey12,hotkey22,t1540,s,hotkey42,hotkey12,hotkey22,hotkey12,hotkey22,s,t1545,hotkey12,s,s,hotkey12,hotkey22,hotkey12,hotkey22,hotkey12,s,t1550,hotkey10,hotkey22,hotkey12,s,hotkey10,hotkey22,hotkey32,hotkey42,s,hotkey52,s,t1555,s,s,s,hotkey52,hotkey02,s,hotkey42,s,s,hotkey40,t1560,s,Base,s,Base,s,hotkey12,hotkey22,hotkey32,hotkey42,hotkey32,hotkey42,hotkey52,s,t1565,s,s,s,hotkey32,hotkey42,hotkey32,hotkey42,hotkey32,hotkey42,hotkey12,hotkey52,hotkey02,hotkey12,t1570,s,s,s,t1575,hotkey12,hotkey42,t1580,hotkey12,s,hotkey10,s,hotkey12,t1585,s,s,s,hotkey12,s,hotkey10,s,t1590,hotkey12,s,hotkey42,t1595,hotkey12,hotkey22,hotkey12,s,hotkey10,s,hotkey22,s,t1600,s,hotkey12,s,s,hotkey12,s,hotkey12,t1605,hotkey10,hotkey42,s,hotkey42,s,hotkey12,hotkey22,s,s,t1610,hotkey42,hotkey12,s,hotkey10,s,s,hotkey12,s,t1615,hotkey10,hotkey22,s,s,hotkey22,s,t1620,hotkey12,hotkey22,hotkey12,s,hotkey32,hotkey42,hotkey52,hotkey12,t1625,s,hotkey42,hotkey32,hotkey42,hotkey52,hotkey42,t1630,hotkey32,hotkey42,hotkey52,s,hotkey42,hotkey12,s,s,s,s,s,t1635,s,s,s,hotkey42,s,hotkey32,hotkey42,hotkey52,s,t1640,hotkey32,hotkey42,hotkey52,s,hotkey32,hotkey42,s,hotkey32,hotkey42,hotkey52,s,t1645,s,s,hotkey10,s,hotkey10,t1650,s,hotkey10,s,s,hotkey32,hotkey42,hotkey52,hotkey62,t1655  3051 non-null   object\n",
            "dtypes: object(1)\n",
            "memory usage: 24.0+ KB\n"
          ]
        }
      ],
      "source": [
        "data2.info()"
      ]
    },
    {
      "cell_type": "code",
      "execution_count": 2,
      "metadata": {
        "colab": {
          "base_uri": "https://localhost:8080/",
          "height": 206
        },
        "id": "K-cRETyb8Tvz",
        "outputId": "7d97bded-09eb-428e-dfac-848c8059f68f"
      },
      "outputs": [
        {
          "output_type": "execute_result",
          "data": {
            "text/plain": [
              "      Race                                               move\n",
              "0   Terran  [s, hotkey30, hotkey00, t5, s, hotkey32, s, ho...\n",
              "1  Protoss  [Base, s, s, Base, s, hotkey20, hotkey30, hotk...\n",
              "2     Zerg  [s, s, s, s, hotkey20, s, hotkey40, t5, t10, h...\n",
              "3  Protoss  [Base, s, s, Base, s, hotkey50, hotkey30, t5, ...\n",
              "4   Terran  [s, hotkey30, s, hotkey32, s, hotkey32, s, hot..."
            ],
            "text/html": [
              "\n",
              "  <div id=\"df-077d3071-b440-4bfc-82b1-e00797252c99\" class=\"colab-df-container\">\n",
              "    <div>\n",
              "<style scoped>\n",
              "    .dataframe tbody tr th:only-of-type {\n",
              "        vertical-align: middle;\n",
              "    }\n",
              "\n",
              "    .dataframe tbody tr th {\n",
              "        vertical-align: top;\n",
              "    }\n",
              "\n",
              "    .dataframe thead th {\n",
              "        text-align: right;\n",
              "    }\n",
              "</style>\n",
              "<table border=\"1\" class=\"dataframe\">\n",
              "  <thead>\n",
              "    <tr style=\"text-align: right;\">\n",
              "      <th></th>\n",
              "      <th>Race</th>\n",
              "      <th>move</th>\n",
              "    </tr>\n",
              "  </thead>\n",
              "  <tbody>\n",
              "    <tr>\n",
              "      <th>0</th>\n",
              "      <td>Terran</td>\n",
              "      <td>[s, hotkey30, hotkey00, t5, s, hotkey32, s, ho...</td>\n",
              "    </tr>\n",
              "    <tr>\n",
              "      <th>1</th>\n",
              "      <td>Protoss</td>\n",
              "      <td>[Base, s, s, Base, s, hotkey20, hotkey30, hotk...</td>\n",
              "    </tr>\n",
              "    <tr>\n",
              "      <th>2</th>\n",
              "      <td>Zerg</td>\n",
              "      <td>[s, s, s, s, hotkey20, s, hotkey40, t5, t10, h...</td>\n",
              "    </tr>\n",
              "    <tr>\n",
              "      <th>3</th>\n",
              "      <td>Protoss</td>\n",
              "      <td>[Base, s, s, Base, s, hotkey50, hotkey30, t5, ...</td>\n",
              "    </tr>\n",
              "    <tr>\n",
              "      <th>4</th>\n",
              "      <td>Terran</td>\n",
              "      <td>[s, hotkey30, s, hotkey32, s, hotkey32, s, hot...</td>\n",
              "    </tr>\n",
              "  </tbody>\n",
              "</table>\n",
              "</div>\n",
              "    <div class=\"colab-df-buttons\">\n",
              "\n",
              "  <div class=\"colab-df-container\">\n",
              "    <button class=\"colab-df-convert\" onclick=\"convertToInteractive('df-077d3071-b440-4bfc-82b1-e00797252c99')\"\n",
              "            title=\"Convert this dataframe to an interactive table.\"\n",
              "            style=\"display:none;\">\n",
              "\n",
              "  <svg xmlns=\"http://www.w3.org/2000/svg\" height=\"24px\" viewBox=\"0 -960 960 960\">\n",
              "    <path d=\"M120-120v-720h720v720H120Zm60-500h600v-160H180v160Zm220 220h160v-160H400v160Zm0 220h160v-160H400v160ZM180-400h160v-160H180v160Zm440 0h160v-160H620v160ZM180-180h160v-160H180v160Zm440 0h160v-160H620v160Z\"/>\n",
              "  </svg>\n",
              "    </button>\n",
              "\n",
              "  <style>\n",
              "    .colab-df-container {\n",
              "      display:flex;\n",
              "      gap: 12px;\n",
              "    }\n",
              "\n",
              "    .colab-df-convert {\n",
              "      background-color: #E8F0FE;\n",
              "      border: none;\n",
              "      border-radius: 50%;\n",
              "      cursor: pointer;\n",
              "      display: none;\n",
              "      fill: #1967D2;\n",
              "      height: 32px;\n",
              "      padding: 0 0 0 0;\n",
              "      width: 32px;\n",
              "    }\n",
              "\n",
              "    .colab-df-convert:hover {\n",
              "      background-color: #E2EBFA;\n",
              "      box-shadow: 0px 1px 2px rgba(60, 64, 67, 0.3), 0px 1px 3px 1px rgba(60, 64, 67, 0.15);\n",
              "      fill: #174EA6;\n",
              "    }\n",
              "\n",
              "    .colab-df-buttons div {\n",
              "      margin-bottom: 4px;\n",
              "    }\n",
              "\n",
              "    [theme=dark] .colab-df-convert {\n",
              "      background-color: #3B4455;\n",
              "      fill: #D2E3FC;\n",
              "    }\n",
              "\n",
              "    [theme=dark] .colab-df-convert:hover {\n",
              "      background-color: #434B5C;\n",
              "      box-shadow: 0px 1px 3px 1px rgba(0, 0, 0, 0.15);\n",
              "      filter: drop-shadow(0px 1px 2px rgba(0, 0, 0, 0.3));\n",
              "      fill: #FFFFFF;\n",
              "    }\n",
              "  </style>\n",
              "\n",
              "    <script>\n",
              "      const buttonEl =\n",
              "        document.querySelector('#df-077d3071-b440-4bfc-82b1-e00797252c99 button.colab-df-convert');\n",
              "      buttonEl.style.display =\n",
              "        google.colab.kernel.accessAllowed ? 'block' : 'none';\n",
              "\n",
              "      async function convertToInteractive(key) {\n",
              "        const element = document.querySelector('#df-077d3071-b440-4bfc-82b1-e00797252c99');\n",
              "        const dataTable =\n",
              "          await google.colab.kernel.invokeFunction('convertToInteractive',\n",
              "                                                    [key], {});\n",
              "        if (!dataTable) return;\n",
              "\n",
              "        const docLinkHtml = 'Like what you see? Visit the ' +\n",
              "          '<a target=\"_blank\" href=https://colab.research.google.com/notebooks/data_table.ipynb>data table notebook</a>'\n",
              "          + ' to learn more about interactive tables.';\n",
              "        element.innerHTML = '';\n",
              "        dataTable['output_type'] = 'display_data';\n",
              "        await google.colab.output.renderOutput(dataTable, element);\n",
              "        const docLink = document.createElement('div');\n",
              "        docLink.innerHTML = docLinkHtml;\n",
              "        element.appendChild(docLink);\n",
              "      }\n",
              "    </script>\n",
              "  </div>\n",
              "\n",
              "\n",
              "<div id=\"df-b4fd7c7c-2f34-434e-a9b7-0e737da672bd\">\n",
              "  <button class=\"colab-df-quickchart\" onclick=\"quickchart('df-b4fd7c7c-2f34-434e-a9b7-0e737da672bd')\"\n",
              "            title=\"Suggest charts\"\n",
              "            style=\"display:none;\">\n",
              "\n",
              "<svg xmlns=\"http://www.w3.org/2000/svg\" height=\"24px\"viewBox=\"0 0 24 24\"\n",
              "     width=\"24px\">\n",
              "    <g>\n",
              "        <path d=\"M19 3H5c-1.1 0-2 .9-2 2v14c0 1.1.9 2 2 2h14c1.1 0 2-.9 2-2V5c0-1.1-.9-2-2-2zM9 17H7v-7h2v7zm4 0h-2V7h2v10zm4 0h-2v-4h2v4z\"/>\n",
              "    </g>\n",
              "</svg>\n",
              "  </button>\n",
              "\n",
              "<style>\n",
              "  .colab-df-quickchart {\n",
              "      --bg-color: #E8F0FE;\n",
              "      --fill-color: #1967D2;\n",
              "      --hover-bg-color: #E2EBFA;\n",
              "      --hover-fill-color: #174EA6;\n",
              "      --disabled-fill-color: #AAA;\n",
              "      --disabled-bg-color: #DDD;\n",
              "  }\n",
              "\n",
              "  [theme=dark] .colab-df-quickchart {\n",
              "      --bg-color: #3B4455;\n",
              "      --fill-color: #D2E3FC;\n",
              "      --hover-bg-color: #434B5C;\n",
              "      --hover-fill-color: #FFFFFF;\n",
              "      --disabled-bg-color: #3B4455;\n",
              "      --disabled-fill-color: #666;\n",
              "  }\n",
              "\n",
              "  .colab-df-quickchart {\n",
              "    background-color: var(--bg-color);\n",
              "    border: none;\n",
              "    border-radius: 50%;\n",
              "    cursor: pointer;\n",
              "    display: none;\n",
              "    fill: var(--fill-color);\n",
              "    height: 32px;\n",
              "    padding: 0;\n",
              "    width: 32px;\n",
              "  }\n",
              "\n",
              "  .colab-df-quickchart:hover {\n",
              "    background-color: var(--hover-bg-color);\n",
              "    box-shadow: 0 1px 2px rgba(60, 64, 67, 0.3), 0 1px 3px 1px rgba(60, 64, 67, 0.15);\n",
              "    fill: var(--button-hover-fill-color);\n",
              "  }\n",
              "\n",
              "  .colab-df-quickchart-complete:disabled,\n",
              "  .colab-df-quickchart-complete:disabled:hover {\n",
              "    background-color: var(--disabled-bg-color);\n",
              "    fill: var(--disabled-fill-color);\n",
              "    box-shadow: none;\n",
              "  }\n",
              "\n",
              "  .colab-df-spinner {\n",
              "    border: 2px solid var(--fill-color);\n",
              "    border-color: transparent;\n",
              "    border-bottom-color: var(--fill-color);\n",
              "    animation:\n",
              "      spin 1s steps(1) infinite;\n",
              "  }\n",
              "\n",
              "  @keyframes spin {\n",
              "    0% {\n",
              "      border-color: transparent;\n",
              "      border-bottom-color: var(--fill-color);\n",
              "      border-left-color: var(--fill-color);\n",
              "    }\n",
              "    20% {\n",
              "      border-color: transparent;\n",
              "      border-left-color: var(--fill-color);\n",
              "      border-top-color: var(--fill-color);\n",
              "    }\n",
              "    30% {\n",
              "      border-color: transparent;\n",
              "      border-left-color: var(--fill-color);\n",
              "      border-top-color: var(--fill-color);\n",
              "      border-right-color: var(--fill-color);\n",
              "    }\n",
              "    40% {\n",
              "      border-color: transparent;\n",
              "      border-right-color: var(--fill-color);\n",
              "      border-top-color: var(--fill-color);\n",
              "    }\n",
              "    60% {\n",
              "      border-color: transparent;\n",
              "      border-right-color: var(--fill-color);\n",
              "    }\n",
              "    80% {\n",
              "      border-color: transparent;\n",
              "      border-right-color: var(--fill-color);\n",
              "      border-bottom-color: var(--fill-color);\n",
              "    }\n",
              "    90% {\n",
              "      border-color: transparent;\n",
              "      border-bottom-color: var(--fill-color);\n",
              "    }\n",
              "  }\n",
              "</style>\n",
              "\n",
              "  <script>\n",
              "    async function quickchart(key) {\n",
              "      const quickchartButtonEl =\n",
              "        document.querySelector('#' + key + ' button');\n",
              "      quickchartButtonEl.disabled = true;  // To prevent multiple clicks.\n",
              "      quickchartButtonEl.classList.add('colab-df-spinner');\n",
              "      try {\n",
              "        const charts = await google.colab.kernel.invokeFunction(\n",
              "            'suggestCharts', [key], {});\n",
              "      } catch (error) {\n",
              "        console.error('Error during call to suggestCharts:', error);\n",
              "      }\n",
              "      quickchartButtonEl.classList.remove('colab-df-spinner');\n",
              "      quickchartButtonEl.classList.add('colab-df-quickchart-complete');\n",
              "    }\n",
              "    (() => {\n",
              "      let quickchartButtonEl =\n",
              "        document.querySelector('#df-b4fd7c7c-2f34-434e-a9b7-0e737da672bd button');\n",
              "      quickchartButtonEl.style.display =\n",
              "        google.colab.kernel.accessAllowed ? 'block' : 'none';\n",
              "    })();\n",
              "  </script>\n",
              "</div>\n",
              "    </div>\n",
              "  </div>\n"
            ],
            "application/vnd.google.colaboratory.intrinsic+json": {
              "type": "dataframe",
              "variable_name": "data1",
              "summary": "{\n  \"name\": \"data1\",\n  \"rows\": 339,\n  \"fields\": [\n    {\n      \"column\": \"Race\",\n      \"properties\": {\n        \"dtype\": \"category\",\n        \"num_unique_values\": 3,\n        \"samples\": [\n          \"Terran\",\n          \"Protoss\",\n          \"Zerg\"\n        ],\n        \"semantic_type\": \"\",\n        \"description\": \"\"\n      }\n    },\n    {\n      \"column\": \"move\",\n      \"properties\": {\n        \"dtype\": \"object\",\n        \"semantic_type\": \"\",\n        \"description\": \"\"\n      }\n    }\n  ]\n}"
            }
          },
          "metadata": {},
          "execution_count": 2
        }
      ],
      "source": [
        "\n",
        "data1[\"Race\"]=data1.iloc[:,0].str.split(',').str[0]\n",
        "data1[\"move\"]=data1.iloc[:,0].str.split(',').str[1:]\n",
        "data1.drop(data1.columns[0],axis=1,inplace=True)\n",
        "data1.head()\n"
      ]
    },
    {
      "cell_type": "code",
      "source": [
        "\n",
        "\n",
        "data2[\"Player\"]=data2.iloc[:,0].str.split(',').str[0]\n",
        "data2[\"Race\"]=data2.iloc[:,0].str.split(',').str[1]\n",
        "data2[\"move\"]=data2.iloc[:,0].str.split(',').str[2:]\n",
        "data2.drop(data2.columns[0],axis=1,inplace=True)\n",
        "data2.head()"
      ],
      "metadata": {
        "colab": {
          "base_uri": "https://localhost:8080/",
          "height": 206
        },
        "id": "ggQsHq4zNO-K",
        "outputId": "8a88672d-31dc-4e1c-faff-37897773ddd3"
      },
      "execution_count": 3,
      "outputs": [
        {
          "output_type": "execute_result",
          "data": {
            "text/plain": [
              "                                              Player     Race  \\\n",
              "0  http://eu.battle.net/sc2/en/profile/3074362/1/...  Protoss   \n",
              "1  http://eu.battle.net/sc2/en/profile/4234852/1/...  Protoss   \n",
              "2  http://eu.battle.net/sc2/en/profile/3074362/1/...  Protoss   \n",
              "3  http://eu.battle.net/sc2/en/profile/4234852/1/...  Protoss   \n",
              "4  http://eu.battle.net/sc2/en/profile/3074362/1/...  Protoss   \n",
              "\n",
              "                                                move  \n",
              "0  [s, Base, s, s, Base, s, s, Base, s, t5, hotke...  \n",
              "1  [Base, s, s, s, Base, s, hotkey30, hotkey00, t...  \n",
              "2  [Base, s, s, Base, s, s, s, t5, Base, s, hotke...  \n",
              "3  [Base, s, s, s, Base, s, hotkey30, hotkey00, t...  \n",
              "4  [s, Base, s, s, Base, s, hotkey30, s, hotkey32...  "
            ],
            "text/html": [
              "\n",
              "  <div id=\"df-bd0f8618-acce-492d-9a8e-f4e8682063d7\" class=\"colab-df-container\">\n",
              "    <div>\n",
              "<style scoped>\n",
              "    .dataframe tbody tr th:only-of-type {\n",
              "        vertical-align: middle;\n",
              "    }\n",
              "\n",
              "    .dataframe tbody tr th {\n",
              "        vertical-align: top;\n",
              "    }\n",
              "\n",
              "    .dataframe thead th {\n",
              "        text-align: right;\n",
              "    }\n",
              "</style>\n",
              "<table border=\"1\" class=\"dataframe\">\n",
              "  <thead>\n",
              "    <tr style=\"text-align: right;\">\n",
              "      <th></th>\n",
              "      <th>Player</th>\n",
              "      <th>Race</th>\n",
              "      <th>move</th>\n",
              "    </tr>\n",
              "  </thead>\n",
              "  <tbody>\n",
              "    <tr>\n",
              "      <th>0</th>\n",
              "      <td>http://eu.battle.net/sc2/en/profile/3074362/1/...</td>\n",
              "      <td>Protoss</td>\n",
              "      <td>[s, Base, s, s, Base, s, s, Base, s, t5, hotke...</td>\n",
              "    </tr>\n",
              "    <tr>\n",
              "      <th>1</th>\n",
              "      <td>http://eu.battle.net/sc2/en/profile/4234852/1/...</td>\n",
              "      <td>Protoss</td>\n",
              "      <td>[Base, s, s, s, Base, s, hotkey30, hotkey00, t...</td>\n",
              "    </tr>\n",
              "    <tr>\n",
              "      <th>2</th>\n",
              "      <td>http://eu.battle.net/sc2/en/profile/3074362/1/...</td>\n",
              "      <td>Protoss</td>\n",
              "      <td>[Base, s, s, Base, s, s, s, t5, Base, s, hotke...</td>\n",
              "    </tr>\n",
              "    <tr>\n",
              "      <th>3</th>\n",
              "      <td>http://eu.battle.net/sc2/en/profile/4234852/1/...</td>\n",
              "      <td>Protoss</td>\n",
              "      <td>[Base, s, s, s, Base, s, hotkey30, hotkey00, t...</td>\n",
              "    </tr>\n",
              "    <tr>\n",
              "      <th>4</th>\n",
              "      <td>http://eu.battle.net/sc2/en/profile/3074362/1/...</td>\n",
              "      <td>Protoss</td>\n",
              "      <td>[s, Base, s, s, Base, s, hotkey30, s, hotkey32...</td>\n",
              "    </tr>\n",
              "  </tbody>\n",
              "</table>\n",
              "</div>\n",
              "    <div class=\"colab-df-buttons\">\n",
              "\n",
              "  <div class=\"colab-df-container\">\n",
              "    <button class=\"colab-df-convert\" onclick=\"convertToInteractive('df-bd0f8618-acce-492d-9a8e-f4e8682063d7')\"\n",
              "            title=\"Convert this dataframe to an interactive table.\"\n",
              "            style=\"display:none;\">\n",
              "\n",
              "  <svg xmlns=\"http://www.w3.org/2000/svg\" height=\"24px\" viewBox=\"0 -960 960 960\">\n",
              "    <path d=\"M120-120v-720h720v720H120Zm60-500h600v-160H180v160Zm220 220h160v-160H400v160Zm0 220h160v-160H400v160ZM180-400h160v-160H180v160Zm440 0h160v-160H620v160ZM180-180h160v-160H180v160Zm440 0h160v-160H620v160Z\"/>\n",
              "  </svg>\n",
              "    </button>\n",
              "\n",
              "  <style>\n",
              "    .colab-df-container {\n",
              "      display:flex;\n",
              "      gap: 12px;\n",
              "    }\n",
              "\n",
              "    .colab-df-convert {\n",
              "      background-color: #E8F0FE;\n",
              "      border: none;\n",
              "      border-radius: 50%;\n",
              "      cursor: pointer;\n",
              "      display: none;\n",
              "      fill: #1967D2;\n",
              "      height: 32px;\n",
              "      padding: 0 0 0 0;\n",
              "      width: 32px;\n",
              "    }\n",
              "\n",
              "    .colab-df-convert:hover {\n",
              "      background-color: #E2EBFA;\n",
              "      box-shadow: 0px 1px 2px rgba(60, 64, 67, 0.3), 0px 1px 3px 1px rgba(60, 64, 67, 0.15);\n",
              "      fill: #174EA6;\n",
              "    }\n",
              "\n",
              "    .colab-df-buttons div {\n",
              "      margin-bottom: 4px;\n",
              "    }\n",
              "\n",
              "    [theme=dark] .colab-df-convert {\n",
              "      background-color: #3B4455;\n",
              "      fill: #D2E3FC;\n",
              "    }\n",
              "\n",
              "    [theme=dark] .colab-df-convert:hover {\n",
              "      background-color: #434B5C;\n",
              "      box-shadow: 0px 1px 3px 1px rgba(0, 0, 0, 0.15);\n",
              "      filter: drop-shadow(0px 1px 2px rgba(0, 0, 0, 0.3));\n",
              "      fill: #FFFFFF;\n",
              "    }\n",
              "  </style>\n",
              "\n",
              "    <script>\n",
              "      const buttonEl =\n",
              "        document.querySelector('#df-bd0f8618-acce-492d-9a8e-f4e8682063d7 button.colab-df-convert');\n",
              "      buttonEl.style.display =\n",
              "        google.colab.kernel.accessAllowed ? 'block' : 'none';\n",
              "\n",
              "      async function convertToInteractive(key) {\n",
              "        const element = document.querySelector('#df-bd0f8618-acce-492d-9a8e-f4e8682063d7');\n",
              "        const dataTable =\n",
              "          await google.colab.kernel.invokeFunction('convertToInteractive',\n",
              "                                                    [key], {});\n",
              "        if (!dataTable) return;\n",
              "\n",
              "        const docLinkHtml = 'Like what you see? Visit the ' +\n",
              "          '<a target=\"_blank\" href=https://colab.research.google.com/notebooks/data_table.ipynb>data table notebook</a>'\n",
              "          + ' to learn more about interactive tables.';\n",
              "        element.innerHTML = '';\n",
              "        dataTable['output_type'] = 'display_data';\n",
              "        await google.colab.output.renderOutput(dataTable, element);\n",
              "        const docLink = document.createElement('div');\n",
              "        docLink.innerHTML = docLinkHtml;\n",
              "        element.appendChild(docLink);\n",
              "      }\n",
              "    </script>\n",
              "  </div>\n",
              "\n",
              "\n",
              "<div id=\"df-f9559c58-dedf-429e-94d4-1136f2e02091\">\n",
              "  <button class=\"colab-df-quickchart\" onclick=\"quickchart('df-f9559c58-dedf-429e-94d4-1136f2e02091')\"\n",
              "            title=\"Suggest charts\"\n",
              "            style=\"display:none;\">\n",
              "\n",
              "<svg xmlns=\"http://www.w3.org/2000/svg\" height=\"24px\"viewBox=\"0 0 24 24\"\n",
              "     width=\"24px\">\n",
              "    <g>\n",
              "        <path d=\"M19 3H5c-1.1 0-2 .9-2 2v14c0 1.1.9 2 2 2h14c1.1 0 2-.9 2-2V5c0-1.1-.9-2-2-2zM9 17H7v-7h2v7zm4 0h-2V7h2v10zm4 0h-2v-4h2v4z\"/>\n",
              "    </g>\n",
              "</svg>\n",
              "  </button>\n",
              "\n",
              "<style>\n",
              "  .colab-df-quickchart {\n",
              "      --bg-color: #E8F0FE;\n",
              "      --fill-color: #1967D2;\n",
              "      --hover-bg-color: #E2EBFA;\n",
              "      --hover-fill-color: #174EA6;\n",
              "      --disabled-fill-color: #AAA;\n",
              "      --disabled-bg-color: #DDD;\n",
              "  }\n",
              "\n",
              "  [theme=dark] .colab-df-quickchart {\n",
              "      --bg-color: #3B4455;\n",
              "      --fill-color: #D2E3FC;\n",
              "      --hover-bg-color: #434B5C;\n",
              "      --hover-fill-color: #FFFFFF;\n",
              "      --disabled-bg-color: #3B4455;\n",
              "      --disabled-fill-color: #666;\n",
              "  }\n",
              "\n",
              "  .colab-df-quickchart {\n",
              "    background-color: var(--bg-color);\n",
              "    border: none;\n",
              "    border-radius: 50%;\n",
              "    cursor: pointer;\n",
              "    display: none;\n",
              "    fill: var(--fill-color);\n",
              "    height: 32px;\n",
              "    padding: 0;\n",
              "    width: 32px;\n",
              "  }\n",
              "\n",
              "  .colab-df-quickchart:hover {\n",
              "    background-color: var(--hover-bg-color);\n",
              "    box-shadow: 0 1px 2px rgba(60, 64, 67, 0.3), 0 1px 3px 1px rgba(60, 64, 67, 0.15);\n",
              "    fill: var(--button-hover-fill-color);\n",
              "  }\n",
              "\n",
              "  .colab-df-quickchart-complete:disabled,\n",
              "  .colab-df-quickchart-complete:disabled:hover {\n",
              "    background-color: var(--disabled-bg-color);\n",
              "    fill: var(--disabled-fill-color);\n",
              "    box-shadow: none;\n",
              "  }\n",
              "\n",
              "  .colab-df-spinner {\n",
              "    border: 2px solid var(--fill-color);\n",
              "    border-color: transparent;\n",
              "    border-bottom-color: var(--fill-color);\n",
              "    animation:\n",
              "      spin 1s steps(1) infinite;\n",
              "  }\n",
              "\n",
              "  @keyframes spin {\n",
              "    0% {\n",
              "      border-color: transparent;\n",
              "      border-bottom-color: var(--fill-color);\n",
              "      border-left-color: var(--fill-color);\n",
              "    }\n",
              "    20% {\n",
              "      border-color: transparent;\n",
              "      border-left-color: var(--fill-color);\n",
              "      border-top-color: var(--fill-color);\n",
              "    }\n",
              "    30% {\n",
              "      border-color: transparent;\n",
              "      border-left-color: var(--fill-color);\n",
              "      border-top-color: var(--fill-color);\n",
              "      border-right-color: var(--fill-color);\n",
              "    }\n",
              "    40% {\n",
              "      border-color: transparent;\n",
              "      border-right-color: var(--fill-color);\n",
              "      border-top-color: var(--fill-color);\n",
              "    }\n",
              "    60% {\n",
              "      border-color: transparent;\n",
              "      border-right-color: var(--fill-color);\n",
              "    }\n",
              "    80% {\n",
              "      border-color: transparent;\n",
              "      border-right-color: var(--fill-color);\n",
              "      border-bottom-color: var(--fill-color);\n",
              "    }\n",
              "    90% {\n",
              "      border-color: transparent;\n",
              "      border-bottom-color: var(--fill-color);\n",
              "    }\n",
              "  }\n",
              "</style>\n",
              "\n",
              "  <script>\n",
              "    async function quickchart(key) {\n",
              "      const quickchartButtonEl =\n",
              "        document.querySelector('#' + key + ' button');\n",
              "      quickchartButtonEl.disabled = true;  // To prevent multiple clicks.\n",
              "      quickchartButtonEl.classList.add('colab-df-spinner');\n",
              "      try {\n",
              "        const charts = await google.colab.kernel.invokeFunction(\n",
              "            'suggestCharts', [key], {});\n",
              "      } catch (error) {\n",
              "        console.error('Error during call to suggestCharts:', error);\n",
              "      }\n",
              "      quickchartButtonEl.classList.remove('colab-df-spinner');\n",
              "      quickchartButtonEl.classList.add('colab-df-quickchart-complete');\n",
              "    }\n",
              "    (() => {\n",
              "      let quickchartButtonEl =\n",
              "        document.querySelector('#df-f9559c58-dedf-429e-94d4-1136f2e02091 button');\n",
              "      quickchartButtonEl.style.display =\n",
              "        google.colab.kernel.accessAllowed ? 'block' : 'none';\n",
              "    })();\n",
              "  </script>\n",
              "</div>\n",
              "    </div>\n",
              "  </div>\n"
            ],
            "application/vnd.google.colaboratory.intrinsic+json": {
              "type": "dataframe",
              "variable_name": "data2",
              "summary": "{\n  \"name\": \"data2\",\n  \"rows\": 3051,\n  \"fields\": [\n    {\n      \"column\": \"Player\",\n      \"properties\": {\n        \"dtype\": \"category\",\n        \"num_unique_values\": 200,\n        \"samples\": [\n          \"http://kr.battle.net/sc2/en/profile/2343479/1/True/\",\n          \"http://eu.battle.net/sc2/en/profile/1058669/1/Happy/\",\n          \"http://eu.battle.net/sc2/en/profile/284466/1/EGDeMusliM/\"\n        ],\n        \"semantic_type\": \"\",\n        \"description\": \"\"\n      }\n    },\n    {\n      \"column\": \"Race\",\n      \"properties\": {\n        \"dtype\": \"category\",\n        \"num_unique_values\": 3,\n        \"samples\": [\n          \"Protoss\",\n          \"Terran\",\n          \"Zerg\"\n        ],\n        \"semantic_type\": \"\",\n        \"description\": \"\"\n      }\n    },\n    {\n      \"column\": \"move\",\n      \"properties\": {\n        \"dtype\": \"object\",\n        \"semantic_type\": \"\",\n        \"description\": \"\"\n      }\n    }\n  ]\n}"
            }
          },
          "metadata": {},
          "execution_count": 3
        }
      ]
    },
    {
      "cell_type": "code",
      "source": [
        "data1[\"Race\"].isnull().sum()"
      ],
      "metadata": {
        "colab": {
          "base_uri": "https://localhost:8080/"
        },
        "id": "RxLy3aaEI80k",
        "outputId": "e27c2237-1da5-454c-d12e-e8b40256098b"
      },
      "execution_count": 50,
      "outputs": [
        {
          "output_type": "execute_result",
          "data": {
            "text/plain": [
              "0"
            ]
          },
          "metadata": {},
          "execution_count": 50
        }
      ]
    },
    {
      "cell_type": "code",
      "source": [
        "data2[\"Player\"].isnull().sum()"
      ],
      "metadata": {
        "colab": {
          "base_uri": "https://localhost:8080/"
        },
        "id": "psiVGq0sPeFq",
        "outputId": "e407b968-944d-4239-ce75-5b959df7d447"
      },
      "execution_count": 51,
      "outputs": [
        {
          "output_type": "execute_result",
          "data": {
            "text/plain": [
              "0"
            ]
          },
          "metadata": {},
          "execution_count": 51
        }
      ]
    },
    {
      "cell_type": "code",
      "source": [
        "data2[\"Race\"].isnull().sum()"
      ],
      "metadata": {
        "colab": {
          "base_uri": "https://localhost:8080/"
        },
        "id": "cVYa-JovPv2K",
        "outputId": "153ea279-9715-4ddb-ae6b-71847b907b3b"
      },
      "execution_count": 52,
      "outputs": [
        {
          "output_type": "execute_result",
          "data": {
            "text/plain": [
              "0"
            ]
          },
          "metadata": {},
          "execution_count": 52
        }
      ]
    },
    {
      "cell_type": "code",
      "source": [
        "data1[\"move\"].explode().value_counts()"
      ],
      "metadata": {
        "colab": {
          "base_uri": "https://localhost:8080/"
        },
        "id": "GI7ObkjVRT9V",
        "outputId": "a1edd785-36bc-49f3-86ad-38ff9b214464"
      },
      "execution_count": 59,
      "outputs": [
        {
          "output_type": "execute_result",
          "data": {
            "text/plain": [
              "s           248314\n",
              "hotkey12    134899\n",
              "hotkey42     95575\n",
              "hotkey22     88656\n",
              "hotkey32     71638\n",
              "             ...  \n",
              "t2480            2\n",
              "t2490            2\n",
              "t2495            2\n",
              "t2610            1\n",
              "t2615            1\n",
              "Name: move, Length: 556, dtype: int64"
            ]
          },
          "metadata": {},
          "execution_count": 59
        }
      ]
    },
    {
      "cell_type": "code",
      "source": [
        "data2[\"move\"].explode().value_counts()"
      ],
      "metadata": {
        "colab": {
          "base_uri": "https://localhost:8080/"
        },
        "id": "xLKbJLJgRydF",
        "outputId": "6235b035-a68a-4c8f-c515-61fa0395fa88"
      },
      "execution_count": 60,
      "outputs": [
        {
          "output_type": "execute_result",
          "data": {
            "text/plain": [
              "s           2248592\n",
              "hotkey12    1237886\n",
              "hotkey42     914445\n",
              "hotkey22     779967\n",
              "hotkey32     682408\n",
              "             ...   \n",
              "t4450             2\n",
              "t4445             2\n",
              "t4440             2\n",
              "t4435             2\n",
              "t5770             2\n",
              "Name: move, Length: 1187, dtype: int64"
            ]
          },
          "metadata": {},
          "execution_count": 60
        }
      ]
    },
    {
      "cell_type": "code",
      "source": [
        "# Étendre chaque liste dans la colonne \"Move\" en lignes\n",
        "expanded_data1 = data1[\"move\"].explode()\n",
        "\n",
        "# Obtenir des variables indicatrices pour chaque classe dans la colonne \"Move\"\n",
        "dummies_data1 = pd.get_dummies(expanded_data1)\n",
        "\n",
        "# Ajouter les variables indicatrices au DataFrame d'origine\n",
        "data1 = pd.concat([data1, dummies_data1], axis=1)\n",
        "\n",
        "data1.head()"
      ],
      "metadata": {
        "id": "ghcWJijbSfIl"
      },
      "execution_count": 4,
      "outputs": []
    },
    {
      "cell_type": "code",
      "source": [
        "# Étendre chaque liste dans la colonne \"Move\" en lignes\n",
        "expanded_data2 = data2[\"move\"].explode()\n",
        "\n",
        "# Obtenir des variables indicatrices pour chaque classe dans la colonne \"Move\"\n",
        "dummies_data2 = pd.get_dummies(expanded_data2)\n",
        "\n",
        "# Ajouter les variables indicatrices au DataFrame d'origine\n",
        "data2 = pd.concat([data2, dummies_data2], axis=1)\n",
        "\n",
        "data2.head()"
      ],
      "metadata": {
        "id": "tqALuEetSmFZ"
      },
      "execution_count": null,
      "outputs": []
    },
    {
      "cell_type": "code",
      "source": [],
      "metadata": {
        "id": "AAdWm7waSp7E"
      },
      "execution_count": null,
      "outputs": []
    }
  ],
  "metadata": {
    "colab": {
      "provenance": []
    },
    "kernelspec": {
      "display_name": "Python 3",
      "name": "python3"
    },
    "language_info": {
      "name": "python"
    }
  },
  "nbformat": 4,
  "nbformat_minor": 0
}